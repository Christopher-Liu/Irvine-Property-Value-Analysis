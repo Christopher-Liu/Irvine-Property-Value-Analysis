{
 "cells": [
  {
   "cell_type": "code",
   "execution_count": 1,
   "metadata": {},
   "outputs": [],
   "source": [
    "import pandas as pd"
   ]
  },
  {
   "cell_type": "code",
   "execution_count": 2,
   "metadata": {},
   "outputs": [],
   "source": [
    "import_list = [\"./data/la_county/redfin_2020-06-06-10-33-17.csv\",  \n",
    "               \"./data/la_county/redfin_2020-06-06-10-34-58.csv\",\n",
    "               \"./data/la_county/redfin_2020-06-06-10-33-30.csv\",  \n",
    "               \"./data/la_county/redfin_2020-06-06-10-35-32.csv\",\n",
    "               \"./data/la_county/redfin_2020-06-06-10-33-57.csv\",  \n",
    "               \"./data/la_county/redfin_2020-06-06-10-35-43.csv\",\n",
    "               \"./data/la_county/redfin_2020-06-06-10-34-10.csv\",  \n",
    "               \"./data/la_county/redfin_2020-06-06-10-35-55.csv\",\n",
    "               \"./data/la_county/redfin_2020-06-06-10-34-25.csv\",  \n",
    "               \"./data/la_county/redfin_2020-06-06-10-36-06.csv\",\n",
    "               \"./data/la_county/redfin_2020-06-06-10-34-38.csv\",  \n",
    "               \"./data/la_county/redfin_2020-06-06-10-36-32.csv\"]"
   ]
  },
  {
   "cell_type": "code",
   "execution_count": 3,
   "metadata": {},
   "outputs": [],
   "source": [
    "df = pd.read_csv(\"./data/la_county/redfin_2020-06-06-10-34-50.csv\")\n",
    "\n",
    "for i in range(len(import_list)):\n",
    "    df = df.append(pd.read_csv(import_list[i]))"
   ]
  },
  {
   "cell_type": "code",
   "execution_count": 5,
   "metadata": {},
   "outputs": [
    {
     "output_type": "execute_result",
     "data": {
      "text/plain": "(1783, 27)"
     },
     "metadata": {},
     "execution_count": 5
    }
   ],
   "source": [
    "df.shape"
   ]
  },
  {
   "cell_type": "code",
   "execution_count": 6,
   "metadata": {},
   "outputs": [
    {
     "output_type": "execute_result",
     "data": {
      "text/plain": "(1405, 27)"
     },
     "metadata": {},
     "execution_count": 6
    }
   ],
   "source": [
    "df.drop_duplicates(inplace=True)\n",
    "df.shape"
   ]
  },
  {
   "cell_type": "code",
   "execution_count": 7,
   "metadata": {},
   "outputs": [
    {
     "output_type": "execute_result",
     "data": {
      "text/plain": "Index(['SALE TYPE', 'SOLD DATE', 'PROPERTY TYPE', 'ADDRESS', 'CITY',\n       'STATE OR PROVINCE', 'ZIP OR POSTAL CODE', 'PRICE', 'BEDS', 'BATHS',\n       'LOCATION', 'SQUARE FEET', 'LOT SIZE', 'YEAR BUILT', 'DAYS ON MARKET',\n       '$/SQUARE FEET', 'HOA/MONTH', 'STATUS', 'NEXT OPEN HOUSE START TIME',\n       'NEXT OPEN HOUSE END TIME',\n       'URL (SEE http://www.redfin.com/buy-a-home/comparative-market-analysis FOR INFO ON PRICING)',\n       'SOURCE', 'MLS#', 'FAVORITE', 'INTERESTED', 'LATITUDE', 'LONGITUDE'],\n      dtype='object')"
     },
     "metadata": {},
     "execution_count": 7
    }
   ],
   "source": [
    "df.columns"
   ]
  },
  {
   "cell_type": "code",
   "execution_count": 8,
   "metadata": {},
   "outputs": [
    {
     "output_type": "execute_result",
     "data": {
      "text/plain": "Arcadia             163\nPasadena            158\nCovina               81\nWest Covina          80\nWalnut               76\nEl Monte             74\nAlhambra             68\nHacienda Hts         65\nAzusa                64\nSan Gabriel          59\nRowland Heights      54\nTemple City          53\nLa Puente            53\nMonrovia             50\nGlendora             46\nSan Marino           42\nBaldwin Park         38\nRosemead             32\nMontebello           30\nMonterey Park        30\nSan Dimas            19\nSierra Madre         14\nDiamond Bar          12\nPico Rivera          11\nSouth El Monte       10\nDuarte                7\nEast Los Angeles      4\nLos Angeles           3\nSouth Pasadena        3\nIrwindale             3\nCharter Oak           1\nCity Of Industry      1\nValinda               1\nName: CITY, dtype: int64"
     },
     "metadata": {},
     "execution_count": 8
    }
   ],
   "source": [
    "df['CITY'].value_counts()"
   ]
  },
  {
   "cell_type": "code",
   "execution_count": 9,
   "metadata": {},
   "outputs": [],
   "source": [
    "keep_cols = ['PRICE', \n",
    "             'PROPERTY TYPE', \n",
    "             'CITY', \n",
    "             'ZIP OR POSTAL CODE', \n",
    "             'BEDS', \n",
    "             'BATHS',\n",
    "             'SQUARE FEET',\n",
    "             'LATITUDE',\n",
    "             'LONGITUDE']\n",
    "\n",
    "df = df[keep_cols]"
   ]
  },
  {
   "cell_type": "code",
   "execution_count": 11,
   "metadata": {},
   "outputs": [
    {
     "output_type": "execute_result",
     "data": {
      "text/plain": "PRICE                   int64\nPROPERTY TYPE          object\nCITY                   object\nZIP OR POSTAL CODE    float64\nBEDS                  float64\nBATHS                 float64\nSQUARE FEET           float64\nLATITUDE              float64\nLONGITUDE             float64\ndtype: object"
     },
     "metadata": {},
     "execution_count": 11
    }
   ],
   "source": [
    "df.dtypes"
   ]
  },
  {
   "cell_type": "code",
   "execution_count": 13,
   "metadata": {},
   "outputs": [
    {
     "output_type": "execute_result",
     "data": {
      "text/plain": "0    91745\n1    91745\n2    91745\n3    91745\n4    91744\nName: ZIP OR POSTAL CODE, dtype: object"
     },
     "metadata": {},
     "execution_count": 13
    }
   ],
   "source": [
    "df['ZIP OR POSTAL CODE'] = df['ZIP OR POSTAL CODE'].astype('str')\n",
    "df['ZIP OR POSTAL CODE'] = df['ZIP OR POSTAL CODE'].str.replace(r'\\.0', '')\n",
    "\n",
    "df['ZIP OR POSTAL CODE'].head()"
   ]
  },
  {
   "cell_type": "code",
   "execution_count": 14,
   "metadata": {},
   "outputs": [
    {
     "output_type": "execute_result",
     "data": {
      "text/plain": "PRICE                  0\nPROPERTY TYPE          0\nCITY                   0\nZIP OR POSTAL CODE     0\nBEDS                  86\nBATHS                 87\nSQUARE FEET           96\nLATITUDE               0\nLONGITUDE              0\ndtype: int64"
     },
     "metadata": {},
     "execution_count": 14
    }
   ],
   "source": [
    "df.isna().sum()"
   ]
  },
  {
   "cell_type": "code",
   "execution_count": 15,
   "metadata": {},
   "outputs": [
    {
     "output_type": "execute_result",
     "data": {
      "text/plain": "Single Family Residential    856\nCondo/Co-op                  182\nTownhouse                    103\nMulti-Family (2-4 Unit)       97\nVacant Land                   86\nMobile/Manufactured Home      46\nMulti-Family (5+ Unit)        35\nName: PROPERTY TYPE, dtype: int64"
     },
     "metadata": {},
     "execution_count": 15
    }
   ],
   "source": [
    "df['PROPERTY TYPE'].value_counts()"
   ]
  },
  {
   "cell_type": "code",
   "execution_count": 18,
   "metadata": {},
   "outputs": [
    {
     "output_type": "execute_result",
     "data": {
      "text/plain": "PRICE                  0\nPROPERTY TYPE          0\nCITY                   0\nZIP OR POSTAL CODE     0\nBEDS                   0\nBATHS                  1\nSQUARE FEET           10\nLATITUDE               0\nLONGITUDE              0\ndtype: int64"
     },
     "metadata": {},
     "execution_count": 18
    }
   ],
   "source": [
    "df = df.loc[df['PROPERTY TYPE'] != 'Vacant Land', ]\n",
    "\n",
    "df.isna().sum()"
   ]
  },
  {
   "cell_type": "code",
   "execution_count": 19,
   "metadata": {},
   "outputs": [
    {
     "output_type": "execute_result",
     "data": {
      "text/plain": "(1308, 9)"
     },
     "metadata": {},
     "execution_count": 19
    }
   ],
   "source": [
    "df.dropna(inplace = True)\n",
    "\n",
    "df.shape"
   ]
  },
  {
   "cell_type": "code",
   "execution_count": 21,
   "metadata": {},
   "outputs": [
    {
     "output_type": "execute_result",
     "data": {
      "text/plain": "count    1.308000e+03\nmean     1.277248e+06\nstd      1.498240e+06\nmin      3.499900e+04\n25%      5.829975e+05\n50%      8.169950e+05\n75%      1.303750e+06\nmax      2.300000e+07\nName: PRICE, dtype: float64"
     },
     "metadata": {},
     "execution_count": 21
    }
   ],
   "source": [
    "df['PRICE'].describe()"
   ]
  },
  {
   "cell_type": "code",
   "execution_count": 31,
   "metadata": {},
   "outputs": [
    {
     "output_type": "execute_result",
     "data": {
      "text/plain": "95"
     },
     "metadata": {},
     "execution_count": 31
    }
   ],
   "source": [
    "df.loc[(df['PRICE'] > 3_000_000), 'PRICE'].count()"
   ]
  },
  {
   "cell_type": "code",
   "execution_count": 28,
   "metadata": {},
   "outputs": [
    {
     "output_type": "execute_result",
     "data": {
      "text/plain": "    PRICE             PROPERTY TYPE      CITY ZIP OR POSTAL CODE  BEDS  BATHS  \\\n60  34999  Mobile/Manufactured Home  El Monte              91732   2.0    2.0   \n\n    SQUARE FEET   LATITUDE   LONGITUDE  \n60        840.0  34.048358 -118.013322  ",
      "text/html": "<div>\n<style scoped>\n    .dataframe tbody tr th:only-of-type {\n        vertical-align: middle;\n    }\n\n    .dataframe tbody tr th {\n        vertical-align: top;\n    }\n\n    .dataframe thead th {\n        text-align: right;\n    }\n</style>\n<table border=\"1\" class=\"dataframe\">\n  <thead>\n    <tr style=\"text-align: right;\">\n      <th></th>\n      <th>PRICE</th>\n      <th>PROPERTY TYPE</th>\n      <th>CITY</th>\n      <th>ZIP OR POSTAL CODE</th>\n      <th>BEDS</th>\n      <th>BATHS</th>\n      <th>SQUARE FEET</th>\n      <th>LATITUDE</th>\n      <th>LONGITUDE</th>\n    </tr>\n  </thead>\n  <tbody>\n    <tr>\n      <th>60</th>\n      <td>34999</td>\n      <td>Mobile/Manufactured Home</td>\n      <td>El Monte</td>\n      <td>91732</td>\n      <td>2.0</td>\n      <td>2.0</td>\n      <td>840.0</td>\n      <td>34.048358</td>\n      <td>-118.013322</td>\n    </tr>\n  </tbody>\n</table>\n</div>"
     },
     "metadata": {},
     "execution_count": 28
    }
   ],
   "source": [
    "df.loc[df['PRICE'] == df['PRICE'].min(), ]"
   ]
  },
  {
   "cell_type": "code",
   "execution_count": 25,
   "metadata": {},
   "outputs": [
    {
     "output_type": "execute_result",
     "data": {
      "text/plain": "        PRICE              PROPERTY TYPE     CITY ZIP OR POSTAL CODE  BEDS  \\\n246  23000000  Single Family Residential  Arcadia              91006   6.0   \n\n     BATHS  SQUARE FEET   LATITUDE   LONGITUDE  \n246    9.0      15000.0  34.156895 -118.023595  ",
      "text/html": "<div>\n<style scoped>\n    .dataframe tbody tr th:only-of-type {\n        vertical-align: middle;\n    }\n\n    .dataframe tbody tr th {\n        vertical-align: top;\n    }\n\n    .dataframe thead th {\n        text-align: right;\n    }\n</style>\n<table border=\"1\" class=\"dataframe\">\n  <thead>\n    <tr style=\"text-align: right;\">\n      <th></th>\n      <th>PRICE</th>\n      <th>PROPERTY TYPE</th>\n      <th>CITY</th>\n      <th>ZIP OR POSTAL CODE</th>\n      <th>BEDS</th>\n      <th>BATHS</th>\n      <th>SQUARE FEET</th>\n      <th>LATITUDE</th>\n      <th>LONGITUDE</th>\n    </tr>\n  </thead>\n  <tbody>\n    <tr>\n      <th>246</th>\n      <td>23000000</td>\n      <td>Single Family Residential</td>\n      <td>Arcadia</td>\n      <td>91006</td>\n      <td>6.0</td>\n      <td>9.0</td>\n      <td>15000.0</td>\n      <td>34.156895</td>\n      <td>-118.023595</td>\n    </tr>\n  </tbody>\n</table>\n</div>"
     },
     "metadata": {},
     "execution_count": 25
    }
   ],
   "source": [
    "df.loc[df['PRICE'] == df['PRICE'].max(), ]"
   ]
  },
  {
   "cell_type": "code",
   "execution_count": 32,
   "metadata": {},
   "outputs": [
    {
     "output_type": "execute_result",
     "data": {
      "text/plain": "(1213, 9)"
     },
     "metadata": {},
     "execution_count": 32
    }
   ],
   "source": [
    "df = df.loc[(df['PRICE'] <= 3_000_000), ]\n",
    "\n",
    "df.shape"
   ]
  },
  {
   "cell_type": "code",
   "execution_count": 33,
   "metadata": {},
   "outputs": [
    {
     "output_type": "execute_result",
     "data": {
      "text/plain": "count    1.213000e+03\nmean     9.569641e+05\nstd      5.831757e+05\nmin      3.499900e+04\n25%      5.700000e+05\n50%      7.790000e+05\n75%      1.188000e+06\nmax      3.000000e+06\nName: PRICE, dtype: float64"
     },
     "metadata": {},
     "execution_count": 33
    }
   ],
   "source": [
    "df['PRICE'].describe()"
   ]
  },
  {
   "cell_type": "code",
   "execution_count": 34,
   "metadata": {},
   "outputs": [],
   "source": [
    "df_hdi = pd.read_csv('./data/la_county/la_county_hdi.csv')\n",
    "df_hprop = pd.read_csv('./data/la_county/la_county_health_profile.csv')"
   ]
  },
  {
   "cell_type": "code",
   "execution_count": 35,
   "metadata": {},
   "outputs": [
    {
     "output_type": "execute_result",
     "data": {
      "text/plain": "                                            GEO_NAME  GEO_ID  \\\n0                              Northeast Los Angeles    1010   \n1                   North Hollywood - Valley Village    2130   \n2                                 Central City North    1110   \n3  Canoga Park - Winnetka - Woodland Hills - West...    2200   \n4                        Sun Valley - La Tuna Canyon    2170   \n\n                                  GEO_TYPE  HD_INDEX  LIFE_EXPEC  LESS_HS  \\\n0  City of Los Angeles Community Plan Area      4.85        83.3     30.9   \n1  City of Los Angeles Community Plan Area      4.92        81.6     19.9   \n2  City of Los Angeles Community Plan Area      3.50        82.3     39.0   \n3  City of Los Angeles Community Plan Area      6.02        82.8     14.8   \n4  City of Los Angeles Community Plan Area      4.19        82.1     33.5   \n\n   BACHELORS  GRAD_DEGRE  SCHOOL_ENR  EARNINGS  HEALTH_IND  ED_INDEX  \\\n0       25.4         8.0        80.3     24503        7.22      4.27   \n1       32.8         8.4        74.1     27157        6.48      4.51   \n2       22.2         6.9        54.4     20909        6.77      1.79   \n3       37.2        12.9        79.9     34243        7.00      5.69   \n4       17.4         4.1        77.6     22596        6.72      3.36   \n\n   INCOME_IND  \n0        3.05  \n1        3.76  \n2        1.95  \n3        5.37  \n4        2.49  ",
      "text/html": "<div>\n<style scoped>\n    .dataframe tbody tr th:only-of-type {\n        vertical-align: middle;\n    }\n\n    .dataframe tbody tr th {\n        vertical-align: top;\n    }\n\n    .dataframe thead th {\n        text-align: right;\n    }\n</style>\n<table border=\"1\" class=\"dataframe\">\n  <thead>\n    <tr style=\"text-align: right;\">\n      <th></th>\n      <th>GEO_NAME</th>\n      <th>GEO_ID</th>\n      <th>GEO_TYPE</th>\n      <th>HD_INDEX</th>\n      <th>LIFE_EXPEC</th>\n      <th>LESS_HS</th>\n      <th>BACHELORS</th>\n      <th>GRAD_DEGRE</th>\n      <th>SCHOOL_ENR</th>\n      <th>EARNINGS</th>\n      <th>HEALTH_IND</th>\n      <th>ED_INDEX</th>\n      <th>INCOME_IND</th>\n    </tr>\n  </thead>\n  <tbody>\n    <tr>\n      <th>0</th>\n      <td>Northeast Los Angeles</td>\n      <td>1010</td>\n      <td>City of Los Angeles Community Plan Area</td>\n      <td>4.85</td>\n      <td>83.3</td>\n      <td>30.9</td>\n      <td>25.4</td>\n      <td>8.0</td>\n      <td>80.3</td>\n      <td>24503</td>\n      <td>7.22</td>\n      <td>4.27</td>\n      <td>3.05</td>\n    </tr>\n    <tr>\n      <th>1</th>\n      <td>North Hollywood - Valley Village</td>\n      <td>2130</td>\n      <td>City of Los Angeles Community Plan Area</td>\n      <td>4.92</td>\n      <td>81.6</td>\n      <td>19.9</td>\n      <td>32.8</td>\n      <td>8.4</td>\n      <td>74.1</td>\n      <td>27157</td>\n      <td>6.48</td>\n      <td>4.51</td>\n      <td>3.76</td>\n    </tr>\n    <tr>\n      <th>2</th>\n      <td>Central City North</td>\n      <td>1110</td>\n      <td>City of Los Angeles Community Plan Area</td>\n      <td>3.50</td>\n      <td>82.3</td>\n      <td>39.0</td>\n      <td>22.2</td>\n      <td>6.9</td>\n      <td>54.4</td>\n      <td>20909</td>\n      <td>6.77</td>\n      <td>1.79</td>\n      <td>1.95</td>\n    </tr>\n    <tr>\n      <th>3</th>\n      <td>Canoga Park - Winnetka - Woodland Hills - West...</td>\n      <td>2200</td>\n      <td>City of Los Angeles Community Plan Area</td>\n      <td>6.02</td>\n      <td>82.8</td>\n      <td>14.8</td>\n      <td>37.2</td>\n      <td>12.9</td>\n      <td>79.9</td>\n      <td>34243</td>\n      <td>7.00</td>\n      <td>5.69</td>\n      <td>5.37</td>\n    </tr>\n    <tr>\n      <th>4</th>\n      <td>Sun Valley - La Tuna Canyon</td>\n      <td>2170</td>\n      <td>City of Los Angeles Community Plan Area</td>\n      <td>4.19</td>\n      <td>82.1</td>\n      <td>33.5</td>\n      <td>17.4</td>\n      <td>4.1</td>\n      <td>77.6</td>\n      <td>22596</td>\n      <td>6.72</td>\n      <td>3.36</td>\n      <td>2.49</td>\n    </tr>\n  </tbody>\n</table>\n</div>"
     },
     "metadata": {},
     "execution_count": 35
    }
   ],
   "source": [
    "df_hdi.head()"
   ]
  },
  {
   "cell_type": "code",
   "execution_count": 42,
   "metadata": {},
   "outputs": [
    {
     "output_type": "execute_result",
     "data": {
      "text/plain": "array(['Northeast Los Angeles', 'North Hollywood - Valley Village',\n       'Central City North',\n       'Canoga Park - Winnetka - Woodland Hills - West Hills',\n       'Sun Valley - La Tuna Canyon', 'Wilmington - Harbor City',\n       'Mission Hills - Panorama City - North Hills', 'Westlake',\n       'Boyle Heights', 'Sun Village', 'Granada Hills - Knollwood',\n       'Central City', 'Reseda - West Van Nuys', 'Wilshire',\n       'Southeast Los Angeles', 'West Los Angeles', 'South Los Angeles',\n       'Sylmar', 'Arleta - Pacoima', 'Palms - Mar Vista - Del Rey',\n       'Venice', 'West Adams - Baldwin Hills - Leimert', 'San Pedro',\n       'Van Nuys - North Sherman Oaks',\n       'Sherman Oaks - Studio City - Toluca Lake - Cahuenga Pass',\n       'Hollywood', 'Silver Lake - Echo Park - Elysian Valley',\n       'Chatsworth - Porter Ranch', 'Walnut Park',\n       'Brentwood - Pacific Palisades', 'Westchester - Playa del Rey',\n       'Sierra Madre', 'South Pasadena', 'Vincent', 'Lake Los Angeles',\n       'Northridge',\n       'Sunland - Tujunga - Lake View Terrace - Shadow Hills - East La Tuna Canyon',\n       'Encino - Tarzana', 'South San Jose Hills',\n       'Bel Air - Beverly Crest', 'Westwood', 'View Park-Windsor Hills',\n       'San Marino', 'Cudahy', 'Westmont', 'Lennox', 'Paramount',\n       'Hermosa Beach', 'Duarte', 'Artesia', 'Alhambra', 'East Whittier',\n       'West Hollywood', 'Lomita', 'Manhattan Beach', 'El Segundo',\n       'Citrus', 'Hawaiian Gardens', 'Bellflower', 'La Mirada', 'Maywood',\n       'West Carson', 'Quartz Hill', 'Bell Gardens', 'Bell',\n       'San Fernando', 'West Puente Valley', 'Signal Hill',\n       'Florence-Graham', 'Altadena', 'Lawndale', 'Santa Monica',\n       'Valinda', 'South Whittier', 'Walnut', 'Pomona', 'La Puente',\n       'Calabasas', 'Pasadena', 'La Crescenta-Montrose', 'Rosemead',\n       'Pico Rivera', 'Arcadia', 'Burbank', 'Monrovia', 'Baldwin Park',\n       'La Cañada Flintridge', 'West Whittier-Los Nietos', 'Malibu',\n       'Monterey Park', 'Lancaster', 'East San Gabriel', 'Norwalk',\n       'East Rancho Dominguez', 'Rowland Heights', 'Montebello',\n       'Long Beach', 'Palmdale', 'Palos Verdes Estates', 'Santa Clarita',\n       'West Covina', 'Claremont', 'La Verne', 'Lynwood', 'Covina',\n       'Whittier', 'Gardena', 'East Los Angeles', 'Culver City', 'Azusa',\n       'Avocado Heights', 'Hawthorne', 'Del Aire', 'San Gabriel',\n       'Inglewood', 'Torrance', 'Temple City', 'Glendora',\n       'Stevenson Ranch', 'El Monte', 'Lakewood', 'Compton',\n       'Huntington Park', 'Castaic', 'Carson', 'Agoura Hills', 'Commerce',\n       'Glendale', 'Hacienda Heights', 'Beverly Hills', 'Cerritos',\n       'South El Monte', 'Santa Fe Springs', 'Rancho Palos Verdes',\n       'South Gate', 'Diamond Bar', 'Downey', 'Redondo Beach',\n       'San Dimas', 'Harbor Gateway'], dtype=object)"
     },
     "metadata": {},
     "execution_count": 42
    }
   ],
   "source": [
    "df_hdi['GEO_NAME'].unique()"
   ]
  },
  {
   "cell_type": "code",
   "execution_count": 41,
   "metadata": {},
   "outputs": [],
   "source": [
    "df['City in HDI'] = df['CITY'].isin(df_hdi['GEO_NAME'].unique())"
   ]
  },
  {
   "cell_type": "code",
   "execution_count": 47,
   "metadata": {},
   "outputs": [
    {
     "output_type": "execute_result",
     "data": {
      "text/plain": "array(['Hacienda Hts', 'Los Angeles', 'Charter Oak', 'Irwindale'],\n      dtype=object)"
     },
     "metadata": {},
     "execution_count": 47
    }
   ],
   "source": [
    "df.loc[df['City in HDI'] == False, 'CITY'].unique()"
   ]
  },
  {
   "cell_type": "code",
   "execution_count": 36,
   "metadata": {},
   "outputs": [
    {
     "output_type": "execute_result",
     "data": {
      "text/plain": "        GEONAME  Pop_Tot  Prop_18y  Prop_64y  Prop_65y+  Prop_Blk  Prop_Lat  \\\n0      Alhambra    86705    0.1831    0.6504     0.1665    0.0133    0.3435   \n1      Altadena    42525    0.2072    0.6221     0.1707    0.2374    0.2905   \n2       Arcadia    56992    0.1794    0.6389     0.1817    0.0115    0.1250   \n3         Azusa    49479    0.2507    0.6538     0.0956    0.0292    0.6838   \n4  Baldwin Park    74438    0.2623    0.6330     0.1047    0.0099    0.7934   \n\n   Prop_Whi  Prop_Asi  Prop_Ami  ...  Rte_mein  Rte_cein  Rte_luin  Prop_fru  \\\n0    0.0913    0.5498    0.0014  ...        **        **      34.6       0.2   \n1    0.4129    0.0553    0.0019  ...      33.8        **      35.3       0.1   \n2    0.2304    0.6315    0.0014  ...      22.0        **      29.5       0.1   \n3    0.1938    0.0895    0.0024  ...        **        **      29.7       0.1   \n4    0.0432    0.1514    0.0012  ...        **        **      26.5       0.1   \n\n  Prop_bev  Prop_hyp  Prop_marj  Prop_HI  Prop_grad  Prop_trua  \n0      0.2       0.2        0.1      0.0        1.0        0.1  \n1      0.3       0.3        0.2      0.1        0.9        0.4  \n2      0.2       0.2        0.0      0.0        1.0        0.1  \n3      0.4       0.2        0.1      0.0        0.9        0.0  \n4      0.4       0.3        0.1      0.0        1.0        0.4  \n\n[5 rows x 82 columns]",
      "text/html": "<div>\n<style scoped>\n    .dataframe tbody tr th:only-of-type {\n        vertical-align: middle;\n    }\n\n    .dataframe tbody tr th {\n        vertical-align: top;\n    }\n\n    .dataframe thead th {\n        text-align: right;\n    }\n</style>\n<table border=\"1\" class=\"dataframe\">\n  <thead>\n    <tr style=\"text-align: right;\">\n      <th></th>\n      <th>GEONAME</th>\n      <th>Pop_Tot</th>\n      <th>Prop_18y</th>\n      <th>Prop_64y</th>\n      <th>Prop_65y+</th>\n      <th>Prop_Blk</th>\n      <th>Prop_Lat</th>\n      <th>Prop_Whi</th>\n      <th>Prop_Asi</th>\n      <th>Prop_Ami</th>\n      <th>...</th>\n      <th>Rte_mein</th>\n      <th>Rte_cein</th>\n      <th>Rte_luin</th>\n      <th>Prop_fru</th>\n      <th>Prop_bev</th>\n      <th>Prop_hyp</th>\n      <th>Prop_marj</th>\n      <th>Prop_HI</th>\n      <th>Prop_grad</th>\n      <th>Prop_trua</th>\n    </tr>\n  </thead>\n  <tbody>\n    <tr>\n      <th>0</th>\n      <td>Alhambra</td>\n      <td>86705</td>\n      <td>0.1831</td>\n      <td>0.6504</td>\n      <td>0.1665</td>\n      <td>0.0133</td>\n      <td>0.3435</td>\n      <td>0.0913</td>\n      <td>0.5498</td>\n      <td>0.0014</td>\n      <td>...</td>\n      <td>**</td>\n      <td>**</td>\n      <td>34.6</td>\n      <td>0.2</td>\n      <td>0.2</td>\n      <td>0.2</td>\n      <td>0.1</td>\n      <td>0.0</td>\n      <td>1.0</td>\n      <td>0.1</td>\n    </tr>\n    <tr>\n      <th>1</th>\n      <td>Altadena</td>\n      <td>42525</td>\n      <td>0.2072</td>\n      <td>0.6221</td>\n      <td>0.1707</td>\n      <td>0.2374</td>\n      <td>0.2905</td>\n      <td>0.4129</td>\n      <td>0.0553</td>\n      <td>0.0019</td>\n      <td>...</td>\n      <td>33.8</td>\n      <td>**</td>\n      <td>35.3</td>\n      <td>0.1</td>\n      <td>0.3</td>\n      <td>0.3</td>\n      <td>0.2</td>\n      <td>0.1</td>\n      <td>0.9</td>\n      <td>0.4</td>\n    </tr>\n    <tr>\n      <th>2</th>\n      <td>Arcadia</td>\n      <td>56992</td>\n      <td>0.1794</td>\n      <td>0.6389</td>\n      <td>0.1817</td>\n      <td>0.0115</td>\n      <td>0.1250</td>\n      <td>0.2304</td>\n      <td>0.6315</td>\n      <td>0.0014</td>\n      <td>...</td>\n      <td>22.0</td>\n      <td>**</td>\n      <td>29.5</td>\n      <td>0.1</td>\n      <td>0.2</td>\n      <td>0.2</td>\n      <td>0.0</td>\n      <td>0.0</td>\n      <td>1.0</td>\n      <td>0.1</td>\n    </tr>\n    <tr>\n      <th>3</th>\n      <td>Azusa</td>\n      <td>49479</td>\n      <td>0.2507</td>\n      <td>0.6538</td>\n      <td>0.0956</td>\n      <td>0.0292</td>\n      <td>0.6838</td>\n      <td>0.1938</td>\n      <td>0.0895</td>\n      <td>0.0024</td>\n      <td>...</td>\n      <td>**</td>\n      <td>**</td>\n      <td>29.7</td>\n      <td>0.1</td>\n      <td>0.4</td>\n      <td>0.2</td>\n      <td>0.1</td>\n      <td>0.0</td>\n      <td>0.9</td>\n      <td>0.0</td>\n    </tr>\n    <tr>\n      <th>4</th>\n      <td>Baldwin Park</td>\n      <td>74438</td>\n      <td>0.2623</td>\n      <td>0.6330</td>\n      <td>0.1047</td>\n      <td>0.0099</td>\n      <td>0.7934</td>\n      <td>0.0432</td>\n      <td>0.1514</td>\n      <td>0.0012</td>\n      <td>...</td>\n      <td>**</td>\n      <td>**</td>\n      <td>26.5</td>\n      <td>0.1</td>\n      <td>0.4</td>\n      <td>0.3</td>\n      <td>0.1</td>\n      <td>0.0</td>\n      <td>1.0</td>\n      <td>0.4</td>\n    </tr>\n  </tbody>\n</table>\n<p>5 rows × 82 columns</p>\n</div>"
     },
     "metadata": {},
     "execution_count": 36
    }
   ],
   "source": [
    "df_hprop.head()"
   ]
  },
  {
   "cell_type": "code",
   "execution_count": null,
   "metadata": {},
   "outputs": [],
   "source": []
  }
 ],
 "metadata": {
  "language_info": {
   "codemirror_mode": {
    "name": "ipython",
    "version": 3
   },
   "file_extension": ".py",
   "mimetype": "text/x-python",
   "name": "python",
   "nbconvert_exporter": "python",
   "pygments_lexer": "ipython3",
   "version": "3.8.3-final"
  },
  "orig_nbformat": 2,
  "kernelspec": {
   "name": "python38364bitenvvenvf462224ebc244ccdadfe2fbba1bc4181",
   "display_name": "Python 3.8.3 64-bit ('env': venv)"
  }
 },
 "nbformat": 4,
 "nbformat_minor": 2
}