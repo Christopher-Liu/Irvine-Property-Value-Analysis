{
 "cells": [
  {
   "cell_type": "code",
   "execution_count": 1,
   "metadata": {},
   "outputs": [],
   "source": [
    "import pandas as pd"
   ]
  },
  {
   "cell_type": "code",
   "execution_count": 2,
   "metadata": {},
   "outputs": [],
   "source": [
    "import_list = [\"./data/la_county/redfin_2020-06-06-10-33-17.csv\",  \n",
    "               \"./data/la_county/redfin_2020-06-06-10-34-58.csv\",\n",
    "               \"./data/la_county/redfin_2020-06-06-10-33-30.csv\",  \n",
    "               \"./data/la_county/redfin_2020-06-06-10-35-32.csv\",\n",
    "               \"./data/la_county/redfin_2020-06-06-10-33-57.csv\",  \n",
    "               \"./data/la_county/redfin_2020-06-06-10-35-43.csv\",\n",
    "               \"./data/la_county/redfin_2020-06-06-10-34-10.csv\",  \n",
    "               \"./data/la_county/redfin_2020-06-06-10-35-55.csv\",\n",
    "               \"./data/la_county/redfin_2020-06-06-10-34-25.csv\",  \n",
    "               \"./data/la_county/redfin_2020-06-06-10-36-06.csv\",\n",
    "               \"./data/la_county/redfin_2020-06-06-10-34-38.csv\",  \n",
    "               \"./data/la_county/redfin_2020-06-06-10-36-32.csv\"]"
   ]
  },
  {
   "cell_type": "code",
   "execution_count": 3,
   "metadata": {},
   "outputs": [],
   "source": [
    "df = pd.read_csv(\"./data/la_county/redfin_2020-06-06-10-34-50.csv\")\n",
    "\n",
    "for i in range(len(import_list)):\n",
    "    df = df.append(pd.read_csv(import_list[i]))"
   ]
  },
  {
   "cell_type": "code",
   "execution_count": 5,
   "metadata": {},
   "outputs": [
    {
     "output_type": "execute_result",
     "data": {
      "text/plain": "(1783, 27)"
     },
     "metadata": {},
     "execution_count": 5
    }
   ],
   "source": [
    "df.shape"
   ]
  },
  {
   "cell_type": "code",
   "execution_count": 6,
   "metadata": {},
   "outputs": [
    {
     "output_type": "execute_result",
     "data": {
      "text/plain": "(1405, 27)"
     },
     "metadata": {},
     "execution_count": 6
    }
   ],
   "source": [
    "df.drop_duplicates(inplace=True)\n",
    "df.shape"
   ]
  },
  {
   "cell_type": "code",
   "execution_count": 7,
   "metadata": {},
   "outputs": [
    {
     "output_type": "execute_result",
     "data": {
      "text/plain": "Index(['SALE TYPE', 'SOLD DATE', 'PROPERTY TYPE', 'ADDRESS', 'CITY',\n       'STATE OR PROVINCE', 'ZIP OR POSTAL CODE', 'PRICE', 'BEDS', 'BATHS',\n       'LOCATION', 'SQUARE FEET', 'LOT SIZE', 'YEAR BUILT', 'DAYS ON MARKET',\n       '$/SQUARE FEET', 'HOA/MONTH', 'STATUS', 'NEXT OPEN HOUSE START TIME',\n       'NEXT OPEN HOUSE END TIME',\n       'URL (SEE http://www.redfin.com/buy-a-home/comparative-market-analysis FOR INFO ON PRICING)',\n       'SOURCE', 'MLS#', 'FAVORITE', 'INTERESTED', 'LATITUDE', 'LONGITUDE'],\n      dtype='object')"
     },
     "metadata": {},
     "execution_count": 7
    }
   ],
   "source": [
    "df.columns"
   ]
  },
  {
   "cell_type": "code",
   "execution_count": 8,
   "metadata": {},
   "outputs": [
    {
     "output_type": "execute_result",
     "data": {
      "text/plain": "Arcadia             163\nPasadena            158\nCovina               81\nWest Covina          80\nWalnut               76\nEl Monte             74\nAlhambra             68\nHacienda Hts         65\nAzusa                64\nSan Gabriel          59\nRowland Heights      54\nTemple City          53\nLa Puente            53\nMonrovia             50\nGlendora             46\nSan Marino           42\nBaldwin Park         38\nRosemead             32\nMontebello           30\nMonterey Park        30\nSan Dimas            19\nSierra Madre         14\nDiamond Bar          12\nPico Rivera          11\nSouth El Monte       10\nDuarte                7\nEast Los Angeles      4\nLos Angeles           3\nSouth Pasadena        3\nIrwindale             3\nCharter Oak           1\nCity Of Industry      1\nValinda               1\nName: CITY, dtype: int64"
     },
     "metadata": {},
     "execution_count": 8
    }
   ],
   "source": [
    "df['CITY'].value_counts()"
   ]
  },
  {
   "cell_type": "code",
   "execution_count": 9,
   "metadata": {},
   "outputs": [],
   "source": [
    "keep_cols = ['PRICE', \n",
    "             'PROPERTY TYPE', \n",
    "             'CITY', \n",
    "             'ZIP OR POSTAL CODE', \n",
    "             'BEDS', \n",
    "             'BATHS',\n",
    "             'SQUARE FEET',\n",
    "             'LATITUDE',\n",
    "             'LONGITUDE']\n",
    "\n",
    "df = df[keep_cols]"
   ]
  },
  {
   "cell_type": "code",
   "execution_count": 11,
   "metadata": {},
   "outputs": [
    {
     "output_type": "execute_result",
     "data": {
      "text/plain": "PRICE                   int64\nPROPERTY TYPE          object\nCITY                   object\nZIP OR POSTAL CODE    float64\nBEDS                  float64\nBATHS                 float64\nSQUARE FEET           float64\nLATITUDE              float64\nLONGITUDE             float64\ndtype: object"
     },
     "metadata": {},
     "execution_count": 11
    }
   ],
   "source": [
    "df.dtypes"
   ]
  },
  {
   "cell_type": "code",
   "execution_count": 13,
   "metadata": {},
   "outputs": [
    {
     "output_type": "execute_result",
     "data": {
      "text/plain": "0    91745\n1    91745\n2    91745\n3    91745\n4    91744\nName: ZIP OR POSTAL CODE, dtype: object"
     },
     "metadata": {},
     "execution_count": 13
    }
   ],
   "source": [
    "df['ZIP OR POSTAL CODE'] = df['ZIP OR POSTAL CODE'].astype('str')\n",
    "df['ZIP OR POSTAL CODE'] = df['ZIP OR POSTAL CODE'].str.replace(r'\\.0', '')\n",
    "\n",
    "df['ZIP OR POSTAL CODE'].head()"
   ]
  },
  {
   "cell_type": "code",
   "execution_count": 14,
   "metadata": {},
   "outputs": [
    {
     "output_type": "execute_result",
     "data": {
      "text/plain": "PRICE                  0\nPROPERTY TYPE          0\nCITY                   0\nZIP OR POSTAL CODE     0\nBEDS                  86\nBATHS                 87\nSQUARE FEET           96\nLATITUDE               0\nLONGITUDE              0\ndtype: int64"
     },
     "metadata": {},
     "execution_count": 14
    }
   ],
   "source": [
    "df.isna().sum()"
   ]
  },
  {
   "cell_type": "code",
   "execution_count": 15,
   "metadata": {},
   "outputs": [
    {
     "output_type": "execute_result",
     "data": {
      "text/plain": "Single Family Residential    856\nCondo/Co-op                  182\nTownhouse                    103\nMulti-Family (2-4 Unit)       97\nVacant Land                   86\nMobile/Manufactured Home      46\nMulti-Family (5+ Unit)        35\nName: PROPERTY TYPE, dtype: int64"
     },
     "metadata": {},
     "execution_count": 15
    }
   ],
   "source": [
    "df['PROPERTY TYPE'].value_counts()"
   ]
  },
  {
   "cell_type": "code",
   "execution_count": 18,
   "metadata": {},
   "outputs": [
    {
     "output_type": "execute_result",
     "data": {
      "text/plain": "PRICE                  0\nPROPERTY TYPE          0\nCITY                   0\nZIP OR POSTAL CODE     0\nBEDS                   0\nBATHS                  1\nSQUARE FEET           10\nLATITUDE               0\nLONGITUDE              0\ndtype: int64"
     },
     "metadata": {},
     "execution_count": 18
    }
   ],
   "source": [
    "df = df.loc[df['PROPERTY TYPE'] != 'Vacant Land', ]\n",
    "\n",
    "df.isna().sum()"
   ]
  },
  {
   "cell_type": "code",
   "execution_count": 19,
   "metadata": {},
   "outputs": [
    {
     "output_type": "execute_result",
     "data": {
      "text/plain": "(1308, 9)"
     },
     "metadata": {},
     "execution_count": 19
    }
   ],
   "source": [
    "df.dropna(inplace = True)\n",
    "\n",
    "df.shape"
   ]
  },
  {
   "cell_type": "code",
   "execution_count": 21,
   "metadata": {},
   "outputs": [
    {
     "output_type": "execute_result",
     "data": {
      "text/plain": "count    1.308000e+03\nmean     1.277248e+06\nstd      1.498240e+06\nmin      3.499900e+04\n25%      5.829975e+05\n50%      8.169950e+05\n75%      1.303750e+06\nmax      2.300000e+07\nName: PRICE, dtype: float64"
     },
     "metadata": {},
     "execution_count": 21
    }
   ],
   "source": [
    "df['PRICE'].describe()"
   ]
  },
  {
   "cell_type": "code",
   "execution_count": 31,
   "metadata": {},
   "outputs": [
    {
     "output_type": "execute_result",
     "data": {
      "text/plain": "95"
     },
     "metadata": {},
     "execution_count": 31
    }
   ],
   "source": [
    "df.loc[(df['PRICE'] > 3_000_000), 'PRICE'].count()"
   ]
  },
  {
   "cell_type": "code",
   "execution_count": 28,
   "metadata": {},
   "outputs": [
    {
     "output_type": "execute_result",
     "data": {
      "text/plain": "    PRICE             PROPERTY TYPE      CITY ZIP OR POSTAL CODE  BEDS  BATHS  \\\n60  34999  Mobile/Manufactured Home  El Monte              91732   2.0    2.0   \n\n    SQUARE FEET   LATITUDE   LONGITUDE  \n60        840.0  34.048358 -118.013322  ",
      "text/html": "<div>\n<style scoped>\n    .dataframe tbody tr th:only-of-type {\n        vertical-align: middle;\n    }\n\n    .dataframe tbody tr th {\n        vertical-align: top;\n    }\n\n    .dataframe thead th {\n        text-align: right;\n    }\n</style>\n<table border=\"1\" class=\"dataframe\">\n  <thead>\n    <tr style=\"text-align: right;\">\n      <th></th>\n      <th>PRICE</th>\n      <th>PROPERTY TYPE</th>\n      <th>CITY</th>\n      <th>ZIP OR POSTAL CODE</th>\n      <th>BEDS</th>\n      <th>BATHS</th>\n      <th>SQUARE FEET</th>\n      <th>LATITUDE</th>\n      <th>LONGITUDE</th>\n    </tr>\n  </thead>\n  <tbody>\n    <tr>\n      <th>60</th>\n      <td>34999</td>\n      <td>Mobile/Manufactured Home</td>\n      <td>El Monte</td>\n      <td>91732</td>\n      <td>2.0</td>\n      <td>2.0</td>\n      <td>840.0</td>\n      <td>34.048358</td>\n      <td>-118.013322</td>\n    </tr>\n  </tbody>\n</table>\n</div>"
     },
     "metadata": {},
     "execution_count": 28
    }
   ],
   "source": [
    "df.loc[df['PRICE'] == df['PRICE'].min(), ]"
   ]
  },
  {
   "cell_type": "code",
   "execution_count": 25,
   "metadata": {},
   "outputs": [
    {
     "output_type": "execute_result",
     "data": {
      "text/plain": "        PRICE              PROPERTY TYPE     CITY ZIP OR POSTAL CODE  BEDS  \\\n246  23000000  Single Family Residential  Arcadia              91006   6.0   \n\n     BATHS  SQUARE FEET   LATITUDE   LONGITUDE  \n246    9.0      15000.0  34.156895 -118.023595  ",
      "text/html": "<div>\n<style scoped>\n    .dataframe tbody tr th:only-of-type {\n        vertical-align: middle;\n    }\n\n    .dataframe tbody tr th {\n        vertical-align: top;\n    }\n\n    .dataframe thead th {\n        text-align: right;\n    }\n</style>\n<table border=\"1\" class=\"dataframe\">\n  <thead>\n    <tr style=\"text-align: right;\">\n      <th></th>\n      <th>PRICE</th>\n      <th>PROPERTY TYPE</th>\n      <th>CITY</th>\n      <th>ZIP OR POSTAL CODE</th>\n      <th>BEDS</th>\n      <th>BATHS</th>\n      <th>SQUARE FEET</th>\n      <th>LATITUDE</th>\n      <th>LONGITUDE</th>\n    </tr>\n  </thead>\n  <tbody>\n    <tr>\n      <th>246</th>\n      <td>23000000</td>\n      <td>Single Family Residential</td>\n      <td>Arcadia</td>\n      <td>91006</td>\n      <td>6.0</td>\n      <td>9.0</td>\n      <td>15000.0</td>\n      <td>34.156895</td>\n      <td>-118.023595</td>\n    </tr>\n  </tbody>\n</table>\n</div>"
     },
     "metadata": {},
     "execution_count": 25
    }
   ],
   "source": [
    "df.loc[df['PRICE'] == df['PRICE'].max(), ]"
   ]
  },
  {
   "cell_type": "code",
   "execution_count": 32,
   "metadata": {},
   "outputs": [
    {
     "output_type": "execute_result",
     "data": {
      "text/plain": "(1213, 9)"
     },
     "metadata": {},
     "execution_count": 32
    }
   ],
   "source": [
    "df = df.loc[(df['PRICE'] <= 3_000_000), ]\n",
    "\n",
    "df.shape"
   ]
  },
  {
   "cell_type": "code",
   "execution_count": 33,
   "metadata": {},
   "outputs": [
    {
     "output_type": "execute_result",
     "data": {
      "text/plain": "count    1.213000e+03\nmean     9.569641e+05\nstd      5.831757e+05\nmin      3.499900e+04\n25%      5.700000e+05\n50%      7.790000e+05\n75%      1.188000e+06\nmax      3.000000e+06\nName: PRICE, dtype: float64"
     },
     "metadata": {},
     "execution_count": 33
    }
   ],
   "source": [
    "df['PRICE'].describe()"
   ]
  },
  {
   "cell_type": "code",
   "execution_count": null,
   "metadata": {},
   "outputs": [],
   "source": []
  }
 ],
 "metadata": {
  "language_info": {
   "codemirror_mode": {
    "name": "ipython",
    "version": 3
   },
   "file_extension": ".py",
   "mimetype": "text/x-python",
   "name": "python",
   "nbconvert_exporter": "python",
   "pygments_lexer": "ipython3",
   "version": "3.8.3-final"
  },
  "orig_nbformat": 2,
  "kernelspec": {
   "name": "python38364bitenvvenvf462224ebc244ccdadfe2fbba1bc4181",
   "display_name": "Python 3.8.3 64-bit ('env': venv)"
  }
 },
 "nbformat": 4,
 "nbformat_minor": 2
}