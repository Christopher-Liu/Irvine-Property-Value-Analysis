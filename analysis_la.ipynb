{
 "cells": [
  {
   "cell_type": "code",
   "execution_count": 1,
   "metadata": {},
   "outputs": [],
   "source": [
    "import pandas as pd"
   ]
  },
  {
   "cell_type": "code",
   "execution_count": 2,
   "metadata": {},
   "outputs": [],
   "source": [
    "import_list = [\"./data/la_county/redfin_2020-06-06-10-33-17.csv\",  \n",
    "               \"./data/la_county/redfin_2020-06-06-10-34-58.csv\",\n",
    "               \"./data/la_county/redfin_2020-06-06-10-33-30.csv\",  \n",
    "               \"./data/la_county/redfin_2020-06-06-10-35-32.csv\",\n",
    "               \"./data/la_county/redfin_2020-06-06-10-33-57.csv\",  \n",
    "               \"./data/la_county/redfin_2020-06-06-10-35-43.csv\",\n",
    "               \"./data/la_county/redfin_2020-06-06-10-34-10.csv\",  \n",
    "               \"./data/la_county/redfin_2020-06-06-10-35-55.csv\",\n",
    "               \"./data/la_county/redfin_2020-06-06-10-34-25.csv\",  \n",
    "               \"./data/la_county/redfin_2020-06-06-10-36-06.csv\",\n",
    "               \"./data/la_county/redfin_2020-06-06-10-34-38.csv\",  \n",
    "               \"./data/la_county/redfin_2020-06-06-10-36-32.csv\"]"
   ]
  },
  {
   "cell_type": "code",
   "execution_count": 3,
   "metadata": {},
   "outputs": [],
   "source": [
    "df = pd.read_csv(\"./data/la_county/redfin_2020-06-06-10-34-50.csv\")\n",
    "\n",
    "for i in range(len(import_list)):\n",
    "    df = df.append(pd.read_csv(import_list[i]))"
   ]
  },
  {
   "cell_type": "code",
   "execution_count": 5,
   "metadata": {},
   "outputs": [
    {
     "output_type": "execute_result",
     "data": {
      "text/plain": "(1783, 27)"
     },
     "metadata": {},
     "execution_count": 5
    }
   ],
   "source": [
    "df.shape"
   ]
  },
  {
   "cell_type": "code",
   "execution_count": 6,
   "metadata": {},
   "outputs": [
    {
     "output_type": "execute_result",
     "data": {
      "text/plain": "(1405, 27)"
     },
     "metadata": {},
     "execution_count": 6
    }
   ],
   "source": [
    "df.drop_duplicates(inplace=True)\n",
    "df.shape"
   ]
  },
  {
   "cell_type": "code",
   "execution_count": 7,
   "metadata": {},
   "outputs": [
    {
     "output_type": "execute_result",
     "data": {
      "text/plain": "Index(['SALE TYPE', 'SOLD DATE', 'PROPERTY TYPE', 'ADDRESS', 'CITY',\n       'STATE OR PROVINCE', 'ZIP OR POSTAL CODE', 'PRICE', 'BEDS', 'BATHS',\n       'LOCATION', 'SQUARE FEET', 'LOT SIZE', 'YEAR BUILT', 'DAYS ON MARKET',\n       '$/SQUARE FEET', 'HOA/MONTH', 'STATUS', 'NEXT OPEN HOUSE START TIME',\n       'NEXT OPEN HOUSE END TIME',\n       'URL (SEE http://www.redfin.com/buy-a-home/comparative-market-analysis FOR INFO ON PRICING)',\n       'SOURCE', 'MLS#', 'FAVORITE', 'INTERESTED', 'LATITUDE', 'LONGITUDE'],\n      dtype='object')"
     },
     "metadata": {},
     "execution_count": 7
    }
   ],
   "source": [
    "df.columns"
   ]
  },
  {
   "cell_type": "code",
   "execution_count": 8,
   "metadata": {},
   "outputs": [
    {
     "output_type": "execute_result",
     "data": {
      "text/plain": "Arcadia             163\nPasadena            158\nCovina               81\nWest Covina          80\nWalnut               76\nEl Monte             74\nAlhambra             68\nHacienda Hts         65\nAzusa                64\nSan Gabriel          59\nRowland Heights      54\nTemple City          53\nLa Puente            53\nMonrovia             50\nGlendora             46\nSan Marino           42\nBaldwin Park         38\nRosemead             32\nMontebello           30\nMonterey Park        30\nSan Dimas            19\nSierra Madre         14\nDiamond Bar          12\nPico Rivera          11\nSouth El Monte       10\nDuarte                7\nEast Los Angeles      4\nLos Angeles           3\nSouth Pasadena        3\nIrwindale             3\nCharter Oak           1\nCity Of Industry      1\nValinda               1\nName: CITY, dtype: int64"
     },
     "metadata": {},
     "execution_count": 8
    }
   ],
   "source": [
    "df['CITY'].value_counts()"
   ]
  },
  {
   "cell_type": "code",
   "execution_count": 9,
   "metadata": {},
   "outputs": [],
   "source": [
    "keep_cols = ['PRICE', \n",
    "             'PROPERTY TYPE', \n",
    "             'CITY', \n",
    "             'ZIP OR POSTAL CODE', \n",
    "             'BEDS', \n",
    "             'BATHS',\n",
    "             'SQUARE FEET',\n",
    "             'LATITUDE',\n",
    "             'LONGITUDE']\n",
    "\n",
    "df = df[keep_cols]"
   ]
  },
  {
   "cell_type": "code",
   "execution_count": 11,
   "metadata": {},
   "outputs": [
    {
     "output_type": "execute_result",
     "data": {
      "text/plain": "PRICE                   int64\nPROPERTY TYPE          object\nCITY                   object\nZIP OR POSTAL CODE    float64\nBEDS                  float64\nBATHS                 float64\nSQUARE FEET           float64\nLATITUDE              float64\nLONGITUDE             float64\ndtype: object"
     },
     "metadata": {},
     "execution_count": 11
    }
   ],
   "source": [
    "df.dtypes"
   ]
  },
  {
   "cell_type": "code",
   "execution_count": 13,
   "metadata": {},
   "outputs": [
    {
     "output_type": "execute_result",
     "data": {
      "text/plain": "0    91745\n1    91745\n2    91745\n3    91745\n4    91744\nName: ZIP OR POSTAL CODE, dtype: object"
     },
     "metadata": {},
     "execution_count": 13
    }
   ],
   "source": [
    "df['ZIP OR POSTAL CODE'] = df['ZIP OR POSTAL CODE'].astype('str')\n",
    "df['ZIP OR POSTAL CODE'] = df['ZIP OR POSTAL CODE'].str.replace(r'\\.0', '')\n",
    "\n",
    "df['ZIP OR POSTAL CODE'].head()"
   ]
  },
  {
   "cell_type": "code",
   "execution_count": 14,
   "metadata": {},
   "outputs": [
    {
     "output_type": "execute_result",
     "data": {
      "text/plain": "PRICE                  0\nPROPERTY TYPE          0\nCITY                   0\nZIP OR POSTAL CODE     0\nBEDS                  86\nBATHS                 87\nSQUARE FEET           96\nLATITUDE               0\nLONGITUDE              0\ndtype: int64"
     },
     "metadata": {},
     "execution_count": 14
    }
   ],
   "source": [
    "df.isna().sum()"
   ]
  },
  {
   "cell_type": "code",
   "execution_count": 15,
   "metadata": {},
   "outputs": [
    {
     "output_type": "execute_result",
     "data": {
      "text/plain": "Single Family Residential    856\nCondo/Co-op                  182\nTownhouse                    103\nMulti-Family (2-4 Unit)       97\nVacant Land                   86\nMobile/Manufactured Home      46\nMulti-Family (5+ Unit)        35\nName: PROPERTY TYPE, dtype: int64"
     },
     "metadata": {},
     "execution_count": 15
    }
   ],
   "source": [
    "df['PROPERTY TYPE'].value_counts()"
   ]
  },
  {
   "cell_type": "code",
   "execution_count": 18,
   "metadata": {},
   "outputs": [
    {
     "output_type": "execute_result",
     "data": {
      "text/plain": "PRICE                  0\nPROPERTY TYPE          0\nCITY                   0\nZIP OR POSTAL CODE     0\nBEDS                   0\nBATHS                  1\nSQUARE FEET           10\nLATITUDE               0\nLONGITUDE              0\ndtype: int64"
     },
     "metadata": {},
     "execution_count": 18
    }
   ],
   "source": [
    "df = df.loc[df['PROPERTY TYPE'] != 'Vacant Land', ]\n",
    "\n",
    "df.isna().sum()"
   ]
  },
  {
   "cell_type": "code",
   "execution_count": 19,
   "metadata": {},
   "outputs": [
    {
     "output_type": "execute_result",
     "data": {
      "text/plain": "(1308, 9)"
     },
     "metadata": {},
     "execution_count": 19
    }
   ],
   "source": [
    "df.dropna(inplace = True)\n",
    "\n",
    "df.shape"
   ]
  },
  {
   "cell_type": "code",
   "execution_count": 21,
   "metadata": {},
   "outputs": [
    {
     "output_type": "execute_result",
     "data": {
      "text/plain": "count    1.308000e+03\nmean     1.277248e+06\nstd      1.498240e+06\nmin      3.499900e+04\n25%      5.829975e+05\n50%      8.169950e+05\n75%      1.303750e+06\nmax      2.300000e+07\nName: PRICE, dtype: float64"
     },
     "metadata": {},
     "execution_count": 21
    }
   ],
   "source": [
    "df['PRICE'].describe()"
   ]
  },
  {
   "cell_type": "code",
   "execution_count": 31,
   "metadata": {},
   "outputs": [
    {
     "output_type": "execute_result",
     "data": {
      "text/plain": "95"
     },
     "metadata": {},
     "execution_count": 31
    }
   ],
   "source": [
    "df.loc[(df['PRICE'] > 3_000_000), 'PRICE'].count()"
   ]
  },
  {
   "cell_type": "code",
   "execution_count": 28,
   "metadata": {},
   "outputs": [
    {
     "output_type": "execute_result",
     "data": {
      "text/plain": "    PRICE             PROPERTY TYPE      CITY ZIP OR POSTAL CODE  BEDS  BATHS  \\\n60  34999  Mobile/Manufactured Home  El Monte              91732   2.0    2.0   \n\n    SQUARE FEET   LATITUDE   LONGITUDE  \n60        840.0  34.048358 -118.013322  ",
      "text/html": "<div>\n<style scoped>\n    .dataframe tbody tr th:only-of-type {\n        vertical-align: middle;\n    }\n\n    .dataframe tbody tr th {\n        vertical-align: top;\n    }\n\n    .dataframe thead th {\n        text-align: right;\n    }\n</style>\n<table border=\"1\" class=\"dataframe\">\n  <thead>\n    <tr style=\"text-align: right;\">\n      <th></th>\n      <th>PRICE</th>\n      <th>PROPERTY TYPE</th>\n      <th>CITY</th>\n      <th>ZIP OR POSTAL CODE</th>\n      <th>BEDS</th>\n      <th>BATHS</th>\n      <th>SQUARE FEET</th>\n      <th>LATITUDE</th>\n      <th>LONGITUDE</th>\n    </tr>\n  </thead>\n  <tbody>\n    <tr>\n      <th>60</th>\n      <td>34999</td>\n      <td>Mobile/Manufactured Home</td>\n      <td>El Monte</td>\n      <td>91732</td>\n      <td>2.0</td>\n      <td>2.0</td>\n      <td>840.0</td>\n      <td>34.048358</td>\n      <td>-118.013322</td>\n    </tr>\n  </tbody>\n</table>\n</div>"
     },
     "metadata": {},
     "execution_count": 28
    }
   ],
   "source": [
    "df.loc[df['PRICE'] == df['PRICE'].min(), ]"
   ]
  },
  {
   "cell_type": "code",
   "execution_count": 25,
   "metadata": {},
   "outputs": [
    {
     "output_type": "execute_result",
     "data": {
      "text/plain": "        PRICE              PROPERTY TYPE     CITY ZIP OR POSTAL CODE  BEDS  \\\n246  23000000  Single Family Residential  Arcadia              91006   6.0   \n\n     BATHS  SQUARE FEET   LATITUDE   LONGITUDE  \n246    9.0      15000.0  34.156895 -118.023595  ",
      "text/html": "<div>\n<style scoped>\n    .dataframe tbody tr th:only-of-type {\n        vertical-align: middle;\n    }\n\n    .dataframe tbody tr th {\n        vertical-align: top;\n    }\n\n    .dataframe thead th {\n        text-align: right;\n    }\n</style>\n<table border=\"1\" class=\"dataframe\">\n  <thead>\n    <tr style=\"text-align: right;\">\n      <th></th>\n      <th>PRICE</th>\n      <th>PROPERTY TYPE</th>\n      <th>CITY</th>\n      <th>ZIP OR POSTAL CODE</th>\n      <th>BEDS</th>\n      <th>BATHS</th>\n      <th>SQUARE FEET</th>\n      <th>LATITUDE</th>\n      <th>LONGITUDE</th>\n    </tr>\n  </thead>\n  <tbody>\n    <tr>\n      <th>246</th>\n      <td>23000000</td>\n      <td>Single Family Residential</td>\n      <td>Arcadia</td>\n      <td>91006</td>\n      <td>6.0</td>\n      <td>9.0</td>\n      <td>15000.0</td>\n      <td>34.156895</td>\n      <td>-118.023595</td>\n    </tr>\n  </tbody>\n</table>\n</div>"
     },
     "metadata": {},
     "execution_count": 25
    }
   ],
   "source": [
    "df.loc[df['PRICE'] == df['PRICE'].max(), ]"
   ]
  },
  {
   "cell_type": "code",
   "execution_count": 32,
   "metadata": {},
   "outputs": [
    {
     "output_type": "execute_result",
     "data": {
      "text/plain": "(1213, 9)"
     },
     "metadata": {},
     "execution_count": 32
    }
   ],
   "source": [
    "df = df.loc[(df['PRICE'] <= 3_000_000), ]\n",
    "\n",
    "df.shape"
   ]
  },
  {
   "cell_type": "code",
   "execution_count": 33,
   "metadata": {},
   "outputs": [
    {
     "output_type": "execute_result",
     "data": {
      "text/plain": "count    1.213000e+03\nmean     9.569641e+05\nstd      5.831757e+05\nmin      3.499900e+04\n25%      5.700000e+05\n50%      7.790000e+05\n75%      1.188000e+06\nmax      3.000000e+06\nName: PRICE, dtype: float64"
     },
     "metadata": {},
     "execution_count": 33
    }
   ],
   "source": [
    "df['PRICE'].describe()"
   ]
  },
  {
   "cell_type": "code",
   "execution_count": 34,
   "metadata": {},
   "outputs": [],
   "source": [
    "df_hdi = pd.read_csv('./data/la_county/la_county_hdi.csv')"
   ]
  },
  {
   "cell_type": "code",
   "execution_count": 35,
   "metadata": {},
   "outputs": [
    {
     "output_type": "execute_result",
     "data": {
      "text/plain": "                                            GEO_NAME  GEO_ID  \\\n0                              Northeast Los Angeles    1010   \n1                   North Hollywood - Valley Village    2130   \n2                                 Central City North    1110   \n3  Canoga Park - Winnetka - Woodland Hills - West...    2200   \n4                        Sun Valley - La Tuna Canyon    2170   \n\n                                  GEO_TYPE  HD_INDEX  LIFE_EXPEC  LESS_HS  \\\n0  City of Los Angeles Community Plan Area      4.85        83.3     30.9   \n1  City of Los Angeles Community Plan Area      4.92        81.6     19.9   \n2  City of Los Angeles Community Plan Area      3.50        82.3     39.0   \n3  City of Los Angeles Community Plan Area      6.02        82.8     14.8   \n4  City of Los Angeles Community Plan Area      4.19        82.1     33.5   \n\n   BACHELORS  GRAD_DEGRE  SCHOOL_ENR  EARNINGS  HEALTH_IND  ED_INDEX  \\\n0       25.4         8.0        80.3     24503        7.22      4.27   \n1       32.8         8.4        74.1     27157        6.48      4.51   \n2       22.2         6.9        54.4     20909        6.77      1.79   \n3       37.2        12.9        79.9     34243        7.00      5.69   \n4       17.4         4.1        77.6     22596        6.72      3.36   \n\n   INCOME_IND  \n0        3.05  \n1        3.76  \n2        1.95  \n3        5.37  \n4        2.49  ",
      "text/html": "<div>\n<style scoped>\n    .dataframe tbody tr th:only-of-type {\n        vertical-align: middle;\n    }\n\n    .dataframe tbody tr th {\n        vertical-align: top;\n    }\n\n    .dataframe thead th {\n        text-align: right;\n    }\n</style>\n<table border=\"1\" class=\"dataframe\">\n  <thead>\n    <tr style=\"text-align: right;\">\n      <th></th>\n      <th>GEO_NAME</th>\n      <th>GEO_ID</th>\n      <th>GEO_TYPE</th>\n      <th>HD_INDEX</th>\n      <th>LIFE_EXPEC</th>\n      <th>LESS_HS</th>\n      <th>BACHELORS</th>\n      <th>GRAD_DEGRE</th>\n      <th>SCHOOL_ENR</th>\n      <th>EARNINGS</th>\n      <th>HEALTH_IND</th>\n      <th>ED_INDEX</th>\n      <th>INCOME_IND</th>\n    </tr>\n  </thead>\n  <tbody>\n    <tr>\n      <th>0</th>\n      <td>Northeast Los Angeles</td>\n      <td>1010</td>\n      <td>City of Los Angeles Community Plan Area</td>\n      <td>4.85</td>\n      <td>83.3</td>\n      <td>30.9</td>\n      <td>25.4</td>\n      <td>8.0</td>\n      <td>80.3</td>\n      <td>24503</td>\n      <td>7.22</td>\n      <td>4.27</td>\n      <td>3.05</td>\n    </tr>\n    <tr>\n      <th>1</th>\n      <td>North Hollywood - Valley Village</td>\n      <td>2130</td>\n      <td>City of Los Angeles Community Plan Area</td>\n      <td>4.92</td>\n      <td>81.6</td>\n      <td>19.9</td>\n      <td>32.8</td>\n      <td>8.4</td>\n      <td>74.1</td>\n      <td>27157</td>\n      <td>6.48</td>\n      <td>4.51</td>\n      <td>3.76</td>\n    </tr>\n    <tr>\n      <th>2</th>\n      <td>Central City North</td>\n      <td>1110</td>\n      <td>City of Los Angeles Community Plan Area</td>\n      <td>3.50</td>\n      <td>82.3</td>\n      <td>39.0</td>\n      <td>22.2</td>\n      <td>6.9</td>\n      <td>54.4</td>\n      <td>20909</td>\n      <td>6.77</td>\n      <td>1.79</td>\n      <td>1.95</td>\n    </tr>\n    <tr>\n      <th>3</th>\n      <td>Canoga Park - Winnetka - Woodland Hills - West...</td>\n      <td>2200</td>\n      <td>City of Los Angeles Community Plan Area</td>\n      <td>6.02</td>\n      <td>82.8</td>\n      <td>14.8</td>\n      <td>37.2</td>\n      <td>12.9</td>\n      <td>79.9</td>\n      <td>34243</td>\n      <td>7.00</td>\n      <td>5.69</td>\n      <td>5.37</td>\n    </tr>\n    <tr>\n      <th>4</th>\n      <td>Sun Valley - La Tuna Canyon</td>\n      <td>2170</td>\n      <td>City of Los Angeles Community Plan Area</td>\n      <td>4.19</td>\n      <td>82.1</td>\n      <td>33.5</td>\n      <td>17.4</td>\n      <td>4.1</td>\n      <td>77.6</td>\n      <td>22596</td>\n      <td>6.72</td>\n      <td>3.36</td>\n      <td>2.49</td>\n    </tr>\n  </tbody>\n</table>\n</div>"
     },
     "metadata": {},
     "execution_count": 35
    }
   ],
   "source": [
    "df_hdi.head()"
   ]
  },
  {
   "cell_type": "code",
   "execution_count": 50,
   "metadata": {},
   "outputs": [
    {
     "output_type": "execute_result",
     "data": {
      "text/plain": "['Agoura Hills',\n 'Alhambra',\n 'Altadena',\n 'Arcadia',\n 'Arleta - Pacoima',\n 'Artesia',\n 'Avocado Heights',\n 'Azusa',\n 'Baldwin Park',\n 'Bel Air - Beverly Crest',\n 'Bell',\n 'Bell Gardens',\n 'Bellflower',\n 'Beverly Hills',\n 'Boyle Heights',\n 'Brentwood - Pacific Palisades',\n 'Burbank',\n 'Calabasas',\n 'Canoga Park - Winnetka - Woodland Hills - West Hills',\n 'Carson',\n 'Castaic',\n 'Central City',\n 'Central City North',\n 'Cerritos',\n 'Chatsworth - Porter Ranch',\n 'Citrus',\n 'Claremont',\n 'Commerce',\n 'Compton',\n 'Covina',\n 'Cudahy',\n 'Culver City',\n 'Del Aire',\n 'Diamond Bar',\n 'Downey',\n 'Duarte',\n 'East Los Angeles',\n 'East Rancho Dominguez',\n 'East San Gabriel',\n 'East Whittier',\n 'El Monte',\n 'El Segundo',\n 'Encino - Tarzana',\n 'Florence-Graham',\n 'Gardena',\n 'Glendale',\n 'Glendora',\n 'Granada Hills - Knollwood',\n 'Hacienda Heights',\n 'Harbor Gateway',\n 'Hawaiian Gardens',\n 'Hawthorne',\n 'Hermosa Beach',\n 'Hollywood',\n 'Huntington Park',\n 'Inglewood',\n 'La Cañada Flintridge',\n 'La Crescenta-Montrose',\n 'La Mirada',\n 'La Puente',\n 'La Verne',\n 'Lake Los Angeles',\n 'Lakewood',\n 'Lancaster',\n 'Lawndale',\n 'Lennox',\n 'Lomita',\n 'Long Beach',\n 'Lynwood',\n 'Malibu',\n 'Manhattan Beach',\n 'Maywood',\n 'Mission Hills - Panorama City - North Hills',\n 'Monrovia',\n 'Montebello',\n 'Monterey Park',\n 'North Hollywood - Valley Village',\n 'Northeast Los Angeles',\n 'Northridge',\n 'Norwalk',\n 'Palmdale',\n 'Palms - Mar Vista - Del Rey',\n 'Palos Verdes Estates',\n 'Paramount',\n 'Pasadena',\n 'Pico Rivera',\n 'Pomona',\n 'Quartz Hill',\n 'Rancho Palos Verdes',\n 'Redondo Beach',\n 'Reseda - West Van Nuys',\n 'Rosemead',\n 'Rowland Heights',\n 'San Dimas',\n 'San Fernando',\n 'San Gabriel',\n 'San Marino',\n 'San Pedro',\n 'Santa Clarita',\n 'Santa Fe Springs',\n 'Santa Monica',\n 'Sherman Oaks - Studio City - Toluca Lake - Cahuenga Pass',\n 'Sierra Madre',\n 'Signal Hill',\n 'Silver Lake - Echo Park - Elysian Valley',\n 'South El Monte',\n 'South Gate',\n 'South Los Angeles',\n 'South Pasadena',\n 'South San Jose Hills',\n 'South Whittier',\n 'Southeast Los Angeles',\n 'Stevenson Ranch',\n 'Sun Valley - La Tuna Canyon',\n 'Sun Village',\n 'Sunland - Tujunga - Lake View Terrace - Shadow Hills - East La Tuna Canyon',\n 'Sylmar',\n 'Temple City',\n 'Torrance',\n 'Valinda',\n 'Van Nuys - North Sherman Oaks',\n 'Venice',\n 'View Park-Windsor Hills',\n 'Vincent',\n 'Walnut',\n 'Walnut Park',\n 'West Adams - Baldwin Hills - Leimert',\n 'West Carson',\n 'West Covina',\n 'West Hollywood',\n 'West Los Angeles',\n 'West Puente Valley',\n 'West Whittier-Los Nietos',\n 'Westchester - Playa del Rey',\n 'Westlake',\n 'Westmont',\n 'Westwood',\n 'Whittier',\n 'Wilmington - Harbor City',\n 'Wilshire']"
     },
     "metadata": {},
     "execution_count": 50
    }
   ],
   "source": [
    "sorted(df_hdi['GEO_NAME'].unique())"
   ]
  },
  {
   "cell_type": "code",
   "execution_count": 41,
   "metadata": {},
   "outputs": [],
   "source": [
    "df['City in HDI'] = df['CITY'].isin(df_hdi['GEO_NAME'].unique())"
   ]
  },
  {
   "cell_type": "code",
   "execution_count": 47,
   "metadata": {},
   "outputs": [
    {
     "output_type": "execute_result",
     "data": {
      "text/plain": "array(['Hacienda Hts', 'Los Angeles', 'Charter Oak', 'Irwindale'],\n      dtype=object)"
     },
     "metadata": {},
     "execution_count": 47
    }
   ],
   "source": [
    "df.loc[df['City in HDI'] == False, 'CITY'].unique()"
   ]
  },
  {
   "cell_type": "markdown",
   "metadata": {},
   "source": [
    "<br>\n",
    "\n",
    "No data in the HDI spreadsheet for Irwindale. Since there are only 3 Irwindale listings in our dataset, we'll just take Irwindale out of our dataset. Additionally, Charter Oak in the HDI dataset is geographically split between Glendora and Covina. Since more of it resides in Covina, I will just rename the single Charter Oak listing as a Covina listing.\n",
    "\n",
    "Hacienda Heights is an easy fix as we can change \"Hacienda Hts\" to match the HDI dataset's spelling (Hacienda Heights). "
   ]
  },
  {
   "cell_type": "code",
   "execution_count": 51,
   "metadata": {},
   "outputs": [],
   "source": [
    "df = df.loc[df['CITY'] != 'Irwindale', ]"
   ]
  },
  {
   "cell_type": "code",
   "execution_count": 52,
   "metadata": {},
   "outputs": [],
   "source": [
    "df.loc[df['CITY'] == 'Charter Oak', 'CITY'] = 'Covina'"
   ]
  },
  {
   "cell_type": "code",
   "execution_count": 53,
   "metadata": {},
   "outputs": [],
   "source": [
    "df.loc[df['CITY'] == 'Hacienda Hts', 'CITY'] = 'Hacienda Heights'"
   ]
  },
  {
   "cell_type": "code",
   "execution_count": 55,
   "metadata": {},
   "outputs": [
    {
     "output_type": "execute_result",
     "data": {
      "text/plain": "      PRICE            PROPERTY TYPE         CITY ZIP OR POSTAL CODE  BEDS  \\\n78  1290000   Multi-Family (5+ Unit)  Los Angeles              91748  12.0   \n20   849000  Multi-Family (2-4 Unit)  Los Angeles              90022   4.0   \n47   715000  Multi-Family (2-4 Unit)  Los Angeles              90022   4.0   \n\n    BATHS  SQUARE FEET   LATITUDE   LONGITUDE  City in HDI  \n78   12.0       1920.0  33.974629 -117.900390        False  \n20    4.0       3120.0  34.015564 -118.139263        False  \n47    2.0       1929.0  34.014843 -118.141579        False  ",
      "text/html": "<div>\n<style scoped>\n    .dataframe tbody tr th:only-of-type {\n        vertical-align: middle;\n    }\n\n    .dataframe tbody tr th {\n        vertical-align: top;\n    }\n\n    .dataframe thead th {\n        text-align: right;\n    }\n</style>\n<table border=\"1\" class=\"dataframe\">\n  <thead>\n    <tr style=\"text-align: right;\">\n      <th></th>\n      <th>PRICE</th>\n      <th>PROPERTY TYPE</th>\n      <th>CITY</th>\n      <th>ZIP OR POSTAL CODE</th>\n      <th>BEDS</th>\n      <th>BATHS</th>\n      <th>SQUARE FEET</th>\n      <th>LATITUDE</th>\n      <th>LONGITUDE</th>\n      <th>City in HDI</th>\n    </tr>\n  </thead>\n  <tbody>\n    <tr>\n      <th>78</th>\n      <td>1290000</td>\n      <td>Multi-Family (5+ Unit)</td>\n      <td>Los Angeles</td>\n      <td>91748</td>\n      <td>12.0</td>\n      <td>12.0</td>\n      <td>1920.0</td>\n      <td>33.974629</td>\n      <td>-117.900390</td>\n      <td>False</td>\n    </tr>\n    <tr>\n      <th>20</th>\n      <td>849000</td>\n      <td>Multi-Family (2-4 Unit)</td>\n      <td>Los Angeles</td>\n      <td>90022</td>\n      <td>4.0</td>\n      <td>4.0</td>\n      <td>3120.0</td>\n      <td>34.015564</td>\n      <td>-118.139263</td>\n      <td>False</td>\n    </tr>\n    <tr>\n      <th>47</th>\n      <td>715000</td>\n      <td>Multi-Family (2-4 Unit)</td>\n      <td>Los Angeles</td>\n      <td>90022</td>\n      <td>4.0</td>\n      <td>2.0</td>\n      <td>1929.0</td>\n      <td>34.014843</td>\n      <td>-118.141579</td>\n      <td>False</td>\n    </tr>\n  </tbody>\n</table>\n</div>"
     },
     "metadata": {},
     "execution_count": 55
    }
   ],
   "source": [
    "df.loc[df['CITY'] == 'Los Angeles', ]"
   ]
  },
  {
   "cell_type": "markdown",
   "metadata": {},
   "source": [
    "<br>\n",
    "\n",
    "With manual checking of these three listings, I can easily relabel the \"CITY\" value to match the HDI dataset. Row 78 with a zipcode of 91748 is actually in the city of Rowland Heights, which I believe Redfin erronenously named as \"Los Angeles\". The remaining two listings fall in the \"East Los Angeles\" region of the HDI dataset, and hence all three will be renamed accordingly."
   ]
  },
  {
   "cell_type": "code",
   "execution_count": 68,
   "metadata": {},
   "outputs": [],
   "source": [
    "df.loc[(df['CITY'] == 'Los Angeles') & (df['ZIP OR POSTAL CODE'] == '90022'), 'CITY'] = 'East Los Angeles'\n",
    "df.loc[(df['CITY'] == 'Los Angeles') & (df['ZIP OR POSTAL CODE'] == '91748'), 'CITY'] = 'Rowland Heights'"
   ]
  },
  {
   "cell_type": "code",
   "execution_count": 69,
   "metadata": {},
   "outputs": [
    {
     "output_type": "execute_result",
     "data": {
      "text/plain": "array([], dtype=object)"
     },
     "metadata": {},
     "execution_count": 69
    }
   ],
   "source": [
    "df['City in HDI'] = df['CITY'].isin(df_hdi['GEO_NAME'].unique())\n",
    "\n",
    "df.loc[df['City in HDI'] == False, 'CITY'].unique()"
   ]
  },
  {
   "cell_type": "markdown",
   "metadata": {},
   "source": [
    "<br>\n",
    "\n",
    "Fantastic, now all cities in our dataset match city labels in the HDI data set as well. We can now merge in the relevant columns of the HDI data set."
   ]
  },
  {
   "cell_type": "code",
   "execution_count": 71,
   "metadata": {},
   "outputs": [
    {
     "output_type": "execute_result",
     "data": {
      "text/plain": "Index(['CITY', 'GEO_ID', 'GEO_TYPE', 'HD_INDEX', 'LIFE_EXPEC', 'LESS_HS',\n       'BACHELORS', 'GRAD_DEGRE', 'SCHOOL_ENR', 'EARNINGS', 'HEALTH_IND',\n       'ED_INDEX', 'INCOME_IND'],\n      dtype='object')"
     },
     "metadata": {},
     "execution_count": 71
    }
   ],
   "source": [
    "df_hdi.rename(columns = {'GEO_NAME': 'CITY'}, inplace = True)\n",
    "df_hdi.columns"
   ]
  },
  {
   "cell_type": "code",
   "execution_count": 73,
   "metadata": {},
   "outputs": [
    {
     "output_type": "execute_result",
     "data": {
      "text/plain": "CITY          0\nGEO_ID        0\nGEO_TYPE      0\nHD_INDEX      0\nLIFE_EXPEC    0\nLESS_HS       0\nBACHELORS     0\nGRAD_DEGRE    0\nSCHOOL_ENR    0\nEARNINGS      0\nHEALTH_IND    0\nED_INDEX      0\nINCOME_IND    0\ndtype: int64"
     },
     "metadata": {},
     "execution_count": 73
    }
   ],
   "source": [
    "df_hdi.isna().sum()"
   ]
  },
  {
   "cell_type": "code",
   "execution_count": 84,
   "metadata": {},
   "outputs": [],
   "source": [
    "df_hdi_merged = pd.merge(df,\n",
    "                         df_hdi[['CITY', 'HEALTH_IND', 'ED_INDEX', 'INCOME_IND']], \n",
    "                         on = 'CITY', \n",
    "                         how = 'left')"
   ]
  },
  {
   "cell_type": "code",
   "execution_count": 86,
   "metadata": {},
   "outputs": [
    {
     "output_type": "execute_result",
     "data": {
      "text/plain": "     PRICE              PROPERTY TYPE              CITY ZIP OR POSTAL CODE  \\\n0   725000  Single Family Residential  Hacienda Heights              91745   \n1  1025000  Single Family Residential  Hacienda Heights              91745   \n2   949888  Single Family Residential  Hacienda Heights              91745   \n3   418000                Condo/Co-op  Hacienda Heights              91745   \n4   499900  Single Family Residential         La Puente              91744   \n\n   BEDS  BATHS  SQUARE FEET   LATITUDE   LONGITUDE  City in HDI  HEALTH_IND  \\\n0   4.0    3.0       1912.0  33.994354 -117.972470         True        7.62   \n1   5.0    5.5       2901.0  34.004616 -117.969404         True        7.62   \n2   5.0    3.0       3198.0  33.981565 -117.989216         True        7.62   \n3   2.0    1.5       1029.0  33.990939 -117.940688         True        7.62   \n4   3.0    2.0       1428.0  34.014966 -117.925701         True        7.02   \n\n   ED_INDEX  INCOME_IND  \n0      5.77        5.88  \n1      5.77        5.88  \n2      5.77        5.88  \n3      5.77        5.88  \n4      2.76        3.23  ",
      "text/html": "<div>\n<style scoped>\n    .dataframe tbody tr th:only-of-type {\n        vertical-align: middle;\n    }\n\n    .dataframe tbody tr th {\n        vertical-align: top;\n    }\n\n    .dataframe thead th {\n        text-align: right;\n    }\n</style>\n<table border=\"1\" class=\"dataframe\">\n  <thead>\n    <tr style=\"text-align: right;\">\n      <th></th>\n      <th>PRICE</th>\n      <th>PROPERTY TYPE</th>\n      <th>CITY</th>\n      <th>ZIP OR POSTAL CODE</th>\n      <th>BEDS</th>\n      <th>BATHS</th>\n      <th>SQUARE FEET</th>\n      <th>LATITUDE</th>\n      <th>LONGITUDE</th>\n      <th>City in HDI</th>\n      <th>HEALTH_IND</th>\n      <th>ED_INDEX</th>\n      <th>INCOME_IND</th>\n    </tr>\n  </thead>\n  <tbody>\n    <tr>\n      <th>0</th>\n      <td>725000</td>\n      <td>Single Family Residential</td>\n      <td>Hacienda Heights</td>\n      <td>91745</td>\n      <td>4.0</td>\n      <td>3.0</td>\n      <td>1912.0</td>\n      <td>33.994354</td>\n      <td>-117.972470</td>\n      <td>True</td>\n      <td>7.62</td>\n      <td>5.77</td>\n      <td>5.88</td>\n    </tr>\n    <tr>\n      <th>1</th>\n      <td>1025000</td>\n      <td>Single Family Residential</td>\n      <td>Hacienda Heights</td>\n      <td>91745</td>\n      <td>5.0</td>\n      <td>5.5</td>\n      <td>2901.0</td>\n      <td>34.004616</td>\n      <td>-117.969404</td>\n      <td>True</td>\n      <td>7.62</td>\n      <td>5.77</td>\n      <td>5.88</td>\n    </tr>\n    <tr>\n      <th>2</th>\n      <td>949888</td>\n      <td>Single Family Residential</td>\n      <td>Hacienda Heights</td>\n      <td>91745</td>\n      <td>5.0</td>\n      <td>3.0</td>\n      <td>3198.0</td>\n      <td>33.981565</td>\n      <td>-117.989216</td>\n      <td>True</td>\n      <td>7.62</td>\n      <td>5.77</td>\n      <td>5.88</td>\n    </tr>\n    <tr>\n      <th>3</th>\n      <td>418000</td>\n      <td>Condo/Co-op</td>\n      <td>Hacienda Heights</td>\n      <td>91745</td>\n      <td>2.0</td>\n      <td>1.5</td>\n      <td>1029.0</td>\n      <td>33.990939</td>\n      <td>-117.940688</td>\n      <td>True</td>\n      <td>7.62</td>\n      <td>5.77</td>\n      <td>5.88</td>\n    </tr>\n    <tr>\n      <th>4</th>\n      <td>499900</td>\n      <td>Single Family Residential</td>\n      <td>La Puente</td>\n      <td>91744</td>\n      <td>3.0</td>\n      <td>2.0</td>\n      <td>1428.0</td>\n      <td>34.014966</td>\n      <td>-117.925701</td>\n      <td>True</td>\n      <td>7.02</td>\n      <td>2.76</td>\n      <td>3.23</td>\n    </tr>\n  </tbody>\n</table>\n</div>"
     },
     "metadata": {},
     "execution_count": 86
    }
   ],
   "source": [
    "df_hdi_merged.head()"
   ]
  },
  {
   "cell_type": "code",
   "execution_count": 95,
   "metadata": {},
   "outputs": [],
   "source": [
    "df_hprop = pd.read_csv('./data/la_county/la_county_health_profile.csv',\n",
    "                       na_values = ['', '-', '**'])"
   ]
  },
  {
   "cell_type": "code",
   "execution_count": 96,
   "metadata": {},
   "outputs": [
    {
     "output_type": "execute_result",
     "data": {
      "text/plain": "        GEONAME  Pop_Tot  Prop_18y  Prop_64y  Prop_65y+  Prop_Blk  Prop_Lat  \\\n0      Alhambra    86705    0.1831    0.6504     0.1665    0.0133    0.3435   \n1      Altadena    42525    0.2072    0.6221     0.1707    0.2374    0.2905   \n2       Arcadia    56992    0.1794    0.6389     0.1817    0.0115    0.1250   \n3         Azusa    49479    0.2507    0.6538     0.0956    0.0292    0.6838   \n4  Baldwin Park    74438    0.2623    0.6330     0.1047    0.0099    0.7934   \n\n   Prop_Whi  Prop_Asi  Prop_Ami  ...  Rte_mein  Rte_cein  Rte_luin  Prop_fru  \\\n0    0.0913    0.5498    0.0014  ...       NaN       NaN      34.6       0.2   \n1    0.4129    0.0553    0.0019  ...      33.8       NaN      35.3       0.1   \n2    0.2304    0.6315    0.0014  ...      22.0       NaN      29.5       0.1   \n3    0.1938    0.0895    0.0024  ...       NaN       NaN      29.7       0.1   \n4    0.0432    0.1514    0.0012  ...       NaN       NaN      26.5       0.1   \n\n   Prop_bev  Prop_hyp  Prop_marj  Prop_HI  Prop_grad  Prop_trua  \n0       0.2       0.2        0.1      0.0        1.0        0.1  \n1       0.3       0.3        0.2      0.1        0.9        0.4  \n2       0.2       0.2        0.0      0.0        1.0        0.1  \n3       0.4       0.2        0.1      0.0        0.9        0.0  \n4       0.4       0.3        0.1      0.0        1.0        0.4  \n\n[5 rows x 82 columns]",
      "text/html": "<div>\n<style scoped>\n    .dataframe tbody tr th:only-of-type {\n        vertical-align: middle;\n    }\n\n    .dataframe tbody tr th {\n        vertical-align: top;\n    }\n\n    .dataframe thead th {\n        text-align: right;\n    }\n</style>\n<table border=\"1\" class=\"dataframe\">\n  <thead>\n    <tr style=\"text-align: right;\">\n      <th></th>\n      <th>GEONAME</th>\n      <th>Pop_Tot</th>\n      <th>Prop_18y</th>\n      <th>Prop_64y</th>\n      <th>Prop_65y+</th>\n      <th>Prop_Blk</th>\n      <th>Prop_Lat</th>\n      <th>Prop_Whi</th>\n      <th>Prop_Asi</th>\n      <th>Prop_Ami</th>\n      <th>...</th>\n      <th>Rte_mein</th>\n      <th>Rte_cein</th>\n      <th>Rte_luin</th>\n      <th>Prop_fru</th>\n      <th>Prop_bev</th>\n      <th>Prop_hyp</th>\n      <th>Prop_marj</th>\n      <th>Prop_HI</th>\n      <th>Prop_grad</th>\n      <th>Prop_trua</th>\n    </tr>\n  </thead>\n  <tbody>\n    <tr>\n      <th>0</th>\n      <td>Alhambra</td>\n      <td>86705</td>\n      <td>0.1831</td>\n      <td>0.6504</td>\n      <td>0.1665</td>\n      <td>0.0133</td>\n      <td>0.3435</td>\n      <td>0.0913</td>\n      <td>0.5498</td>\n      <td>0.0014</td>\n      <td>...</td>\n      <td>NaN</td>\n      <td>NaN</td>\n      <td>34.6</td>\n      <td>0.2</td>\n      <td>0.2</td>\n      <td>0.2</td>\n      <td>0.1</td>\n      <td>0.0</td>\n      <td>1.0</td>\n      <td>0.1</td>\n    </tr>\n    <tr>\n      <th>1</th>\n      <td>Altadena</td>\n      <td>42525</td>\n      <td>0.2072</td>\n      <td>0.6221</td>\n      <td>0.1707</td>\n      <td>0.2374</td>\n      <td>0.2905</td>\n      <td>0.4129</td>\n      <td>0.0553</td>\n      <td>0.0019</td>\n      <td>...</td>\n      <td>33.8</td>\n      <td>NaN</td>\n      <td>35.3</td>\n      <td>0.1</td>\n      <td>0.3</td>\n      <td>0.3</td>\n      <td>0.2</td>\n      <td>0.1</td>\n      <td>0.9</td>\n      <td>0.4</td>\n    </tr>\n    <tr>\n      <th>2</th>\n      <td>Arcadia</td>\n      <td>56992</td>\n      <td>0.1794</td>\n      <td>0.6389</td>\n      <td>0.1817</td>\n      <td>0.0115</td>\n      <td>0.1250</td>\n      <td>0.2304</td>\n      <td>0.6315</td>\n      <td>0.0014</td>\n      <td>...</td>\n      <td>22.0</td>\n      <td>NaN</td>\n      <td>29.5</td>\n      <td>0.1</td>\n      <td>0.2</td>\n      <td>0.2</td>\n      <td>0.0</td>\n      <td>0.0</td>\n      <td>1.0</td>\n      <td>0.1</td>\n    </tr>\n    <tr>\n      <th>3</th>\n      <td>Azusa</td>\n      <td>49479</td>\n      <td>0.2507</td>\n      <td>0.6538</td>\n      <td>0.0956</td>\n      <td>0.0292</td>\n      <td>0.6838</td>\n      <td>0.1938</td>\n      <td>0.0895</td>\n      <td>0.0024</td>\n      <td>...</td>\n      <td>NaN</td>\n      <td>NaN</td>\n      <td>29.7</td>\n      <td>0.1</td>\n      <td>0.4</td>\n      <td>0.2</td>\n      <td>0.1</td>\n      <td>0.0</td>\n      <td>0.9</td>\n      <td>0.0</td>\n    </tr>\n    <tr>\n      <th>4</th>\n      <td>Baldwin Park</td>\n      <td>74438</td>\n      <td>0.2623</td>\n      <td>0.6330</td>\n      <td>0.1047</td>\n      <td>0.0099</td>\n      <td>0.7934</td>\n      <td>0.0432</td>\n      <td>0.1514</td>\n      <td>0.0012</td>\n      <td>...</td>\n      <td>NaN</td>\n      <td>NaN</td>\n      <td>26.5</td>\n      <td>0.1</td>\n      <td>0.4</td>\n      <td>0.3</td>\n      <td>0.1</td>\n      <td>0.0</td>\n      <td>1.0</td>\n      <td>0.4</td>\n    </tr>\n  </tbody>\n</table>\n<p>5 rows × 82 columns</p>\n</div>"
     },
     "metadata": {},
     "execution_count": 96
    }
   ],
   "source": [
    "df_hprop.head()"
   ]
  },
  {
   "cell_type": "code",
   "execution_count": 108,
   "metadata": {},
   "outputs": [
    {
     "output_type": "stream",
     "name": "stdout",
     "text": "GEONAME        0\nPop_Tot        0\nProp_18y       0\nProp_64y       0\nProp_65y+      0\nProp_Blk       0\nProp_Lat       0\nProp_Whi       0\nProp_Asi       0\nProp_Ami       0\nProp_NHO       0\nProp_FPL1      0\nProp_FPL2      0\nProp_forb      0\nProp_Eng       1\nLE             0\nProp_prsc      0\nProp_3rdg      0\nProp_edLH      0\nProp_edHG      0\nProp_edSC      0\nProp_edCG      0\nMHI            0\nNo_libr        1\nProp_empl      0\nProp_emsu      0\nProp_vote      0\nRte_resp       0\nProp_PA        0\nProp_groc      0\nProp_60mi      0\nNo_farm        1\nNo_EBT         1\nProp_foin     28\nNo_CalF       24\nRte_CalF      24\nProp_FRPM      0\nProp_obse      1\nProp_DM        2\nRte_coin      11\nRte_brin       3\nProp_smok      0\nRte_luca       1\nRte_COPD       2\nRte_CVD        0\nProp_hbu1      0\nProp_hbu2      0\nProp_ownr      0\nProp_rentr     0\nNo_hless       0\nProp_asth     10\nRte_crim       0\nRte_hom       39\nRte_alco       0\nPropt_envi     1\nNo_gasw        1\nRte_te17      28\nRte_te19      13\nProp_LBW       0\nRte_IMR       33\nProp_1stt      0\nProp_depr      0\nRte_suic      20\nRte_UOD       31\nRte_syin      10\nRte_goin       0\nRte_hiv        2\nProp_uinC      0\nProp_uinA      0\nProp_duinC     8\nProp_duinA     0\nPropt_HPI      1\nRte_mein      36\nRte_cein      68\nRte_luin       8\nProp_fru       0\nProp_bev       0\nProp_hyp       0\nProp_marj      0\nProp_HI       13\nProp_grad      3\nProp_trua      0\n"
    }
   ],
   "source": [
    "# A lot of missing values in the hprop dataset\n",
    "\n",
    "print(df_hprop.isna().sum().to_string())"
   ]
  },
  {
   "cell_type": "code",
   "execution_count": 89,
   "metadata": {},
   "outputs": [
    {
     "output_type": "execute_result",
     "data": {
      "text/plain": "array(['South El Monte', 'San Marino', 'Sierra Madre', 'Duarte'],\n      dtype=object)"
     },
     "metadata": {},
     "execution_count": 89
    }
   ],
   "source": [
    "df_hdi_merged['City in hprop'] = df_hdi_merged['CITY'].isin(df_hprop['GEONAME'].unique())\n",
    "df_hdi_merged.loc[df_hdi_merged['City in hprop'] == False, 'CITY'].unique()"
   ]
  },
  {
   "cell_type": "code",
   "execution_count": 91,
   "metadata": {},
   "outputs": [
    {
     "output_type": "execute_result",
     "data": {
      "text/plain": "['Alhambra',\n 'Altadena',\n 'Arcadia',\n 'Azusa',\n 'Baldwin Park',\n 'Bell',\n 'Bell Gardens',\n 'Bellflower',\n 'Beverly Hills',\n 'Burbank',\n 'Calabasas',\n 'Carson',\n 'Cerritos',\n 'Claremont',\n 'Compton',\n 'Covina',\n 'Cudahy',\n 'Culver City',\n 'Diamond Bar',\n 'Downey',\n 'East Los Angeles',\n 'El Monte',\n 'Florence-Graham',\n 'Gardena',\n 'Glendale',\n 'Glendora',\n 'Hacienda Heights',\n 'Hawthorne',\n 'Huntington Park',\n 'Inglewood',\n 'La Mirada',\n 'La Puente',\n 'La Verne',\n 'Lakewood',\n 'Lancaster',\n 'Lawndale',\n 'Long Beach',\n 'Los Angeles Council District  1',\n 'Los Angeles Council District  2',\n 'Los Angeles Council District  3',\n 'Los Angeles Council District  4',\n 'Los Angeles Council District  5',\n 'Los Angeles Council District  6',\n 'Los Angeles Council District  7',\n 'Los Angeles Council District  8',\n 'Los Angeles Council District  9',\n 'Los Angeles Council District 10',\n 'Los Angeles Council District 11',\n 'Los Angeles Council District 12',\n 'Los Angeles Council District 13',\n 'Los Angeles Council District 14',\n 'Los Angeles Council District 15',\n 'Los Angeles County',\n 'Los Angeles, City of',\n 'Lynwood',\n 'Manhattan Beach',\n 'Maywood',\n 'Monrovia',\n 'Montebello',\n 'Monterey Park',\n 'Norwalk',\n 'Palmdale',\n 'Paramount',\n 'Pasadena',\n 'Pico Rivera',\n 'Pomona',\n 'Rancho Palos Verdes',\n 'Redondo Beach',\n 'Rosemead',\n 'Rowland Heights',\n 'San Dimas',\n 'San Fernando',\n 'San Gabriel',\n 'Santa Clarita',\n 'Santa Monica',\n 'South Gate',\n 'South Pasadena',\n 'South Whittier',\n 'Temple City',\n 'Torrance',\n 'Valinda',\n 'Walnut',\n 'West Covina',\n 'West Hollywood',\n 'West Whittier-Los Nietos',\n 'Westmont',\n 'Whittier']"
     },
     "metadata": {},
     "execution_count": 91
    }
   ],
   "source": [
    "sorted(df_hprop['GEONAME'].unique())"
   ]
  },
  {
   "cell_type": "code",
   "execution_count": 93,
   "metadata": {},
   "outputs": [
    {
     "output_type": "execute_result",
     "data": {
      "text/plain": "45"
     },
     "metadata": {},
     "execution_count": 93
    }
   ],
   "source": [
    "df_hdi_merged['CITY'].isin(['South El Monte', 'San Marino', 'Sierra Madre', 'Duarte']).sum()"
   ]
  },
  {
   "cell_type": "markdown",
   "metadata": {},
   "source": [
    "<br>\n",
    "\n",
    "I want to merge in this third dataset in order to get data regarding crime rates within the cities. Too many missing values here without an easy solution of just filling in or changing labels. We should consider doing some sort of multiple imputation here, where we predict the crime rates of these four specific cities based off the combined data of the HDI sheet as well as the third dataset. We will look into doing imputation with K Nearest Neighbors, which can be done with Scikit-Learn. "
   ]
  },
  {
   "cell_type": "code",
   "execution_count": 109,
   "metadata": {},
   "outputs": [],
   "source": [
    "# Rename GEONAME column so we can do dataframe merging\n",
    "\n",
    "df_hprop.rename(columns = {'GEONAME': 'CITY'}, inplace = True)"
   ]
  },
  {
   "cell_type": "code",
   "execution_count": 120,
   "metadata": {},
   "outputs": [],
   "source": [
    "df_hprop_impute = df_hprop.dropna(axis = 1)"
   ]
  },
  {
   "cell_type": "code",
   "execution_count": 121,
   "metadata": {},
   "outputs": [
    {
     "output_type": "execute_result",
     "data": {
      "text/plain": "(87, 51)"
     },
     "metadata": {},
     "execution_count": 121
    }
   ],
   "source": [
    "df_hprop_impute.shape"
   ]
  },
  {
   "cell_type": "code",
   "execution_count": 123,
   "metadata": {},
   "outputs": [
    {
     "output_type": "execute_result",
     "data": {
      "text/plain": "Pasadena            130\nArcadia             120\nWest Covina          72\nCovina               69\nWalnut               67\nEl Monte             66\nAlhambra             65\nAzusa                61\nSan Gabriel          56\nHacienda Heights     54\nRowland Heights      50\nLa Puente            49\nTemple City          49\nMonrovia             47\nGlendora             46\nBaldwin Park         35\nMontebello           30\nRosemead             30\nMonterey Park        27\nSan Marino           18\nSierra Madre         13\nDiamond Bar          12\nSan Dimas            12\nPico Rivera           9\nSouth El Monte        8\nDuarte                6\nEast Los Angeles      6\nSouth Pasadena        3\nValinda               1\nName: CITY, dtype: int64"
     },
     "metadata": {},
     "execution_count": 123
    }
   ],
   "source": [
    "df_hdi_merged['CITY'].value_counts()"
   ]
  },
  {
   "cell_type": "code",
   "execution_count": 161,
   "metadata": {},
   "outputs": [],
   "source": [
    "df_test = pd.merge(df_hdi,\n",
    "                   df_hprop[['CITY', 'Rte_crim']],\n",
    "                   on = 'CITY',\n",
    "                   how = 'left')"
   ]
  },
  {
   "cell_type": "code",
   "execution_count": 162,
   "metadata": {},
   "outputs": [
    {
     "output_type": "execute_result",
     "data": {
      "text/plain": "                                                CITY  GEO_ID  \\\n0                              Northeast Los Angeles    1010   \n1                   North Hollywood - Valley Village    2130   \n2                                 Central City North    1110   \n3  Canoga Park - Winnetka - Woodland Hills - West...    2200   \n4                        Sun Valley - La Tuna Canyon    2170   \n\n                                  GEO_TYPE  HD_INDEX  LIFE_EXPEC  LESS_HS  \\\n0  City of Los Angeles Community Plan Area      4.85        83.3     30.9   \n1  City of Los Angeles Community Plan Area      4.92        81.6     19.9   \n2  City of Los Angeles Community Plan Area      3.50        82.3     39.0   \n3  City of Los Angeles Community Plan Area      6.02        82.8     14.8   \n4  City of Los Angeles Community Plan Area      4.19        82.1     33.5   \n\n   BACHELORS  GRAD_DEGRE  SCHOOL_ENR  EARNINGS  HEALTH_IND  ED_INDEX  \\\n0       25.4         8.0        80.3     24503        7.22      4.27   \n1       32.8         8.4        74.1     27157        6.48      4.51   \n2       22.2         6.9        54.4     20909        6.77      1.79   \n3       37.2        12.9        79.9     34243        7.00      5.69   \n4       17.4         4.1        77.6     22596        6.72      3.36   \n\n   INCOME_IND  Rte_crim  \n0        3.05       NaN  \n1        3.76       NaN  \n2        1.95       NaN  \n3        5.37       NaN  \n4        2.49       NaN  ",
      "text/html": "<div>\n<style scoped>\n    .dataframe tbody tr th:only-of-type {\n        vertical-align: middle;\n    }\n\n    .dataframe tbody tr th {\n        vertical-align: top;\n    }\n\n    .dataframe thead th {\n        text-align: right;\n    }\n</style>\n<table border=\"1\" class=\"dataframe\">\n  <thead>\n    <tr style=\"text-align: right;\">\n      <th></th>\n      <th>CITY</th>\n      <th>GEO_ID</th>\n      <th>GEO_TYPE</th>\n      <th>HD_INDEX</th>\n      <th>LIFE_EXPEC</th>\n      <th>LESS_HS</th>\n      <th>BACHELORS</th>\n      <th>GRAD_DEGRE</th>\n      <th>SCHOOL_ENR</th>\n      <th>EARNINGS</th>\n      <th>HEALTH_IND</th>\n      <th>ED_INDEX</th>\n      <th>INCOME_IND</th>\n      <th>Rte_crim</th>\n    </tr>\n  </thead>\n  <tbody>\n    <tr>\n      <th>0</th>\n      <td>Northeast Los Angeles</td>\n      <td>1010</td>\n      <td>City of Los Angeles Community Plan Area</td>\n      <td>4.85</td>\n      <td>83.3</td>\n      <td>30.9</td>\n      <td>25.4</td>\n      <td>8.0</td>\n      <td>80.3</td>\n      <td>24503</td>\n      <td>7.22</td>\n      <td>4.27</td>\n      <td>3.05</td>\n      <td>NaN</td>\n    </tr>\n    <tr>\n      <th>1</th>\n      <td>North Hollywood - Valley Village</td>\n      <td>2130</td>\n      <td>City of Los Angeles Community Plan Area</td>\n      <td>4.92</td>\n      <td>81.6</td>\n      <td>19.9</td>\n      <td>32.8</td>\n      <td>8.4</td>\n      <td>74.1</td>\n      <td>27157</td>\n      <td>6.48</td>\n      <td>4.51</td>\n      <td>3.76</td>\n      <td>NaN</td>\n    </tr>\n    <tr>\n      <th>2</th>\n      <td>Central City North</td>\n      <td>1110</td>\n      <td>City of Los Angeles Community Plan Area</td>\n      <td>3.50</td>\n      <td>82.3</td>\n      <td>39.0</td>\n      <td>22.2</td>\n      <td>6.9</td>\n      <td>54.4</td>\n      <td>20909</td>\n      <td>6.77</td>\n      <td>1.79</td>\n      <td>1.95</td>\n      <td>NaN</td>\n    </tr>\n    <tr>\n      <th>3</th>\n      <td>Canoga Park - Winnetka - Woodland Hills - West...</td>\n      <td>2200</td>\n      <td>City of Los Angeles Community Plan Area</td>\n      <td>6.02</td>\n      <td>82.8</td>\n      <td>14.8</td>\n      <td>37.2</td>\n      <td>12.9</td>\n      <td>79.9</td>\n      <td>34243</td>\n      <td>7.00</td>\n      <td>5.69</td>\n      <td>5.37</td>\n      <td>NaN</td>\n    </tr>\n    <tr>\n      <th>4</th>\n      <td>Sun Valley - La Tuna Canyon</td>\n      <td>2170</td>\n      <td>City of Los Angeles Community Plan Area</td>\n      <td>4.19</td>\n      <td>82.1</td>\n      <td>33.5</td>\n      <td>17.4</td>\n      <td>4.1</td>\n      <td>77.6</td>\n      <td>22596</td>\n      <td>6.72</td>\n      <td>3.36</td>\n      <td>2.49</td>\n      <td>NaN</td>\n    </tr>\n  </tbody>\n</table>\n</div>"
     },
     "metadata": {},
     "execution_count": 162
    }
   ],
   "source": [
    "df_test.head()"
   ]
  },
  {
   "cell_type": "code",
   "execution_count": 163,
   "metadata": {},
   "outputs": [
    {
     "output_type": "execute_result",
     "data": {
      "text/plain": "                                                  CITY  Rte_crim\n0                                Northeast Los Angeles       NaN\n1                     North Hollywood - Valley Village       NaN\n2                                   Central City North       NaN\n3    Canoga Park - Winnetka - Woodland Hills - West...       NaN\n4                          Sun Valley - La Tuna Canyon       NaN\n..                                                 ...       ...\n135                                        Diamond Bar     116.0\n136                                             Downey     328.0\n137                                      Redondo Beach     231.0\n138                                          San Dimas     241.0\n139                                     Harbor Gateway       NaN\n\n[140 rows x 2 columns]",
      "text/html": "<div>\n<style scoped>\n    .dataframe tbody tr th:only-of-type {\n        vertical-align: middle;\n    }\n\n    .dataframe tbody tr th {\n        vertical-align: top;\n    }\n\n    .dataframe thead th {\n        text-align: right;\n    }\n</style>\n<table border=\"1\" class=\"dataframe\">\n  <thead>\n    <tr style=\"text-align: right;\">\n      <th></th>\n      <th>CITY</th>\n      <th>Rte_crim</th>\n    </tr>\n  </thead>\n  <tbody>\n    <tr>\n      <th>0</th>\n      <td>Northeast Los Angeles</td>\n      <td>NaN</td>\n    </tr>\n    <tr>\n      <th>1</th>\n      <td>North Hollywood - Valley Village</td>\n      <td>NaN</td>\n    </tr>\n    <tr>\n      <th>2</th>\n      <td>Central City North</td>\n      <td>NaN</td>\n    </tr>\n    <tr>\n      <th>3</th>\n      <td>Canoga Park - Winnetka - Woodland Hills - West...</td>\n      <td>NaN</td>\n    </tr>\n    <tr>\n      <th>4</th>\n      <td>Sun Valley - La Tuna Canyon</td>\n      <td>NaN</td>\n    </tr>\n    <tr>\n      <th>...</th>\n      <td>...</td>\n      <td>...</td>\n    </tr>\n    <tr>\n      <th>135</th>\n      <td>Diamond Bar</td>\n      <td>116.0</td>\n    </tr>\n    <tr>\n      <th>136</th>\n      <td>Downey</td>\n      <td>328.0</td>\n    </tr>\n    <tr>\n      <th>137</th>\n      <td>Redondo Beach</td>\n      <td>231.0</td>\n    </tr>\n    <tr>\n      <th>138</th>\n      <td>San Dimas</td>\n      <td>241.0</td>\n    </tr>\n    <tr>\n      <th>139</th>\n      <td>Harbor Gateway</td>\n      <td>NaN</td>\n    </tr>\n  </tbody>\n</table>\n<p>140 rows × 2 columns</p>\n</div>"
     },
     "metadata": {},
     "execution_count": 163
    }
   ],
   "source": [
    "df_test[['CITY', 'Rte_crim']]"
   ]
  },
  {
   "cell_type": "code",
   "execution_count": 164,
   "metadata": {},
   "outputs": [
    {
     "output_type": "execute_result",
     "data": {
      "text/plain": "Rte_crim    70\ndtype: int64"
     },
     "metadata": {},
     "execution_count": 164
    }
   ],
   "source": [
    "df_test[['Rte_crim']].isna().sum()"
   ]
  },
  {
   "cell_type": "code",
   "execution_count": 165,
   "metadata": {},
   "outputs": [],
   "source": [
    "df_test = df_test.loc[~(df_test['Rte_crim'].isna()) | (df_test['CITY'].isin(['South El Monte', 'San Marino', 'Sierra Madre', 'Duarte'])), ]"
   ]
  },
  {
   "cell_type": "code",
   "execution_count": 167,
   "metadata": {},
   "outputs": [
    {
     "output_type": "execute_result",
     "data": {
      "text/plain": "              CITY  GEO_ID                 GEO_TYPE  HD_INDEX  LIFE_EXPEC  \\\n31    Sierra Madre  671806                     City      8.24        81.8   \n32  South Pasadena  673220                     City      8.27        85.2   \n42      San Marino  668224                     City      9.43        86.5   \n43          Cudahy  617498                     City      2.84        79.2   \n44        Westmont  684592  Census-Designated Place      2.83        76.3   \n\n    LESS_HS  BACHELORS  GRAD_DEGRE  SCHOOL_ENR  EARNINGS  HEALTH_IND  \\\n31      1.6       63.7        27.5        92.8     56026        6.59   \n32      4.5       59.0        26.6        90.3     50629        8.01   \n42      5.5       71.1        37.5        92.1     77948        8.56   \n43     57.1        4.6         1.5        77.3     19234        5.51   \n44     30.4        7.3         1.5        71.7     20503        4.28   \n\n    ED_INDEX  INCOME_IND  Rte_crim  \n31      9.33        8.79       NaN  \n32      8.71        8.08     104.0  \n42      9.72       10.00       NaN  \n43      1.65        1.37     310.0  \n44      2.38        1.82    1514.0  ",
      "text/html": "<div>\n<style scoped>\n    .dataframe tbody tr th:only-of-type {\n        vertical-align: middle;\n    }\n\n    .dataframe tbody tr th {\n        vertical-align: top;\n    }\n\n    .dataframe thead th {\n        text-align: right;\n    }\n</style>\n<table border=\"1\" class=\"dataframe\">\n  <thead>\n    <tr style=\"text-align: right;\">\n      <th></th>\n      <th>CITY</th>\n      <th>GEO_ID</th>\n      <th>GEO_TYPE</th>\n      <th>HD_INDEX</th>\n      <th>LIFE_EXPEC</th>\n      <th>LESS_HS</th>\n      <th>BACHELORS</th>\n      <th>GRAD_DEGRE</th>\n      <th>SCHOOL_ENR</th>\n      <th>EARNINGS</th>\n      <th>HEALTH_IND</th>\n      <th>ED_INDEX</th>\n      <th>INCOME_IND</th>\n      <th>Rte_crim</th>\n    </tr>\n  </thead>\n  <tbody>\n    <tr>\n      <th>31</th>\n      <td>Sierra Madre</td>\n      <td>671806</td>\n      <td>City</td>\n      <td>8.24</td>\n      <td>81.8</td>\n      <td>1.6</td>\n      <td>63.7</td>\n      <td>27.5</td>\n      <td>92.8</td>\n      <td>56026</td>\n      <td>6.59</td>\n      <td>9.33</td>\n      <td>8.79</td>\n      <td>NaN</td>\n    </tr>\n    <tr>\n      <th>32</th>\n      <td>South Pasadena</td>\n      <td>673220</td>\n      <td>City</td>\n      <td>8.27</td>\n      <td>85.2</td>\n      <td>4.5</td>\n      <td>59.0</td>\n      <td>26.6</td>\n      <td>90.3</td>\n      <td>50629</td>\n      <td>8.01</td>\n      <td>8.71</td>\n      <td>8.08</td>\n      <td>104.0</td>\n    </tr>\n    <tr>\n      <th>42</th>\n      <td>San Marino</td>\n      <td>668224</td>\n      <td>City</td>\n      <td>9.43</td>\n      <td>86.5</td>\n      <td>5.5</td>\n      <td>71.1</td>\n      <td>37.5</td>\n      <td>92.1</td>\n      <td>77948</td>\n      <td>8.56</td>\n      <td>9.72</td>\n      <td>10.00</td>\n      <td>NaN</td>\n    </tr>\n    <tr>\n      <th>43</th>\n      <td>Cudahy</td>\n      <td>617498</td>\n      <td>City</td>\n      <td>2.84</td>\n      <td>79.2</td>\n      <td>57.1</td>\n      <td>4.6</td>\n      <td>1.5</td>\n      <td>77.3</td>\n      <td>19234</td>\n      <td>5.51</td>\n      <td>1.65</td>\n      <td>1.37</td>\n      <td>310.0</td>\n    </tr>\n    <tr>\n      <th>44</th>\n      <td>Westmont</td>\n      <td>684592</td>\n      <td>Census-Designated Place</td>\n      <td>2.83</td>\n      <td>76.3</td>\n      <td>30.4</td>\n      <td>7.3</td>\n      <td>1.5</td>\n      <td>71.7</td>\n      <td>20503</td>\n      <td>4.28</td>\n      <td>2.38</td>\n      <td>1.82</td>\n      <td>1514.0</td>\n    </tr>\n  </tbody>\n</table>\n</div>"
     },
     "metadata": {},
     "execution_count": 167
    }
   ],
   "source": [
    "df_test.head()"
   ]
  },
  {
   "cell_type": "code",
   "execution_count": 230,
   "metadata": {},
   "outputs": [
    {
     "output_type": "execute_result",
     "data": {
      "text/plain": "(74, 14)"
     },
     "metadata": {},
     "execution_count": 230
    }
   ],
   "source": [
    "df_test.shape"
   ]
  },
  {
   "cell_type": "code",
   "execution_count": 205,
   "metadata": {},
   "outputs": [],
   "source": [
    "import numpy as np\n",
    "from sklearn.impute import KNNImputer\n",
    "from sklearn.preprocessing import StandardScaler"
   ]
  },
  {
   "cell_type": "code",
   "execution_count": 232,
   "metadata": {},
   "outputs": [],
   "source": [
    "standard_columns = ['HD_INDEX', 'LIFE_EXPEC', 'LESS_HS', 'BACHELORS', 'GRAD_DEGRE', 'SCHOOL_ENR', 'EARNINGS', 'HEALTH_IND', 'ED_INDEX', 'INCOME_IND']"
   ]
  },
  {
   "cell_type": "code",
   "execution_count": 233,
   "metadata": {},
   "outputs": [],
   "source": [
    "df_test_standardized = df_test[standard_columns]"
   ]
  },
  {
   "cell_type": "code",
   "execution_count": 234,
   "metadata": {},
   "outputs": [],
   "source": [
    "knn_imputer = KNNImputer(n_neighbors = 5,\n",
    "                         weights = 'distance')"
   ]
  },
  {
   "cell_type": "code",
   "execution_count": 235,
   "metadata": {},
   "outputs": [],
   "source": [
    "df_test_standardized = StandardScaler().fit_transform(df_test_standardized)"
   ]
  },
  {
   "cell_type": "code",
   "execution_count": 236,
   "metadata": {},
   "outputs": [
    {
     "output_type": "execute_result",
     "data": {
      "text/plain": "(74, 10)"
     },
     "metadata": {},
     "execution_count": 236
    }
   ],
   "source": [
    "df_test_standardized.shape"
   ]
  },
  {
   "cell_type": "code",
   "execution_count": 237,
   "metadata": {},
   "outputs": [],
   "source": [
    "df_test2 = df_test.copy()"
   ]
  },
  {
   "cell_type": "code",
   "execution_count": 238,
   "metadata": {},
   "outputs": [],
   "source": [
    "df_test2[standard_columns] = df_test_standardized"
   ]
  },
  {
   "cell_type": "code",
   "execution_count": 239,
   "metadata": {},
   "outputs": [
    {
     "output_type": "execute_result",
     "data": {
      "text/plain": "              CITY  GEO_ID                 GEO_TYPE  HD_INDEX  LIFE_EXPEC  \\\n31    Sierra Madre  671806                     City  1.576242   -0.302731   \n32  South Pasadena  673220                     City  1.593982    1.153621   \n42      San Marino  668224                     City  2.279938    1.710461   \n43          Cudahy  617498                     City -1.616997   -1.416412   \n44        Westmont  684592  Census-Designated Place -1.622910   -2.658595   \n\n     LESS_HS  BACHELORS  GRAD_DEGRE  SCHOOL_ENR  EARNINGS  HEALTH_IND  \\\n31 -1.303404   1.753676    1.790466    2.041597  1.704279   -0.295945   \n32 -1.125675   1.513149    1.694879    1.608857  1.287377    1.161996   \n42 -1.064389   2.132378    2.852547    1.920429  3.397689    1.726691   \n43  2.097969  -1.270824   -0.970942   -0.641391 -1.137794   -1.404801   \n44  0.461633  -1.132649   -0.970942   -1.610728 -1.039767   -2.667665   \n\n    ED_INDEX  INCOME_IND  Rte_crim  \n31  1.883682    1.710371       NaN  \n32  1.614148    1.402305     104.0  \n42  2.053227    2.235385       NaN  \n43 -1.455060   -1.509137     310.0  \n44 -1.137705   -1.313884    1514.0  ",
      "text/html": "<div>\n<style scoped>\n    .dataframe tbody tr th:only-of-type {\n        vertical-align: middle;\n    }\n\n    .dataframe tbody tr th {\n        vertical-align: top;\n    }\n\n    .dataframe thead th {\n        text-align: right;\n    }\n</style>\n<table border=\"1\" class=\"dataframe\">\n  <thead>\n    <tr style=\"text-align: right;\">\n      <th></th>\n      <th>CITY</th>\n      <th>GEO_ID</th>\n      <th>GEO_TYPE</th>\n      <th>HD_INDEX</th>\n      <th>LIFE_EXPEC</th>\n      <th>LESS_HS</th>\n      <th>BACHELORS</th>\n      <th>GRAD_DEGRE</th>\n      <th>SCHOOL_ENR</th>\n      <th>EARNINGS</th>\n      <th>HEALTH_IND</th>\n      <th>ED_INDEX</th>\n      <th>INCOME_IND</th>\n      <th>Rte_crim</th>\n    </tr>\n  </thead>\n  <tbody>\n    <tr>\n      <th>31</th>\n      <td>Sierra Madre</td>\n      <td>671806</td>\n      <td>City</td>\n      <td>1.576242</td>\n      <td>-0.302731</td>\n      <td>-1.303404</td>\n      <td>1.753676</td>\n      <td>1.790466</td>\n      <td>2.041597</td>\n      <td>1.704279</td>\n      <td>-0.295945</td>\n      <td>1.883682</td>\n      <td>1.710371</td>\n      <td>NaN</td>\n    </tr>\n    <tr>\n      <th>32</th>\n      <td>South Pasadena</td>\n      <td>673220</td>\n      <td>City</td>\n      <td>1.593982</td>\n      <td>1.153621</td>\n      <td>-1.125675</td>\n      <td>1.513149</td>\n      <td>1.694879</td>\n      <td>1.608857</td>\n      <td>1.287377</td>\n      <td>1.161996</td>\n      <td>1.614148</td>\n      <td>1.402305</td>\n      <td>104.0</td>\n    </tr>\n    <tr>\n      <th>42</th>\n      <td>San Marino</td>\n      <td>668224</td>\n      <td>City</td>\n      <td>2.279938</td>\n      <td>1.710461</td>\n      <td>-1.064389</td>\n      <td>2.132378</td>\n      <td>2.852547</td>\n      <td>1.920429</td>\n      <td>3.397689</td>\n      <td>1.726691</td>\n      <td>2.053227</td>\n      <td>2.235385</td>\n      <td>NaN</td>\n    </tr>\n    <tr>\n      <th>43</th>\n      <td>Cudahy</td>\n      <td>617498</td>\n      <td>City</td>\n      <td>-1.616997</td>\n      <td>-1.416412</td>\n      <td>2.097969</td>\n      <td>-1.270824</td>\n      <td>-0.970942</td>\n      <td>-0.641391</td>\n      <td>-1.137794</td>\n      <td>-1.404801</td>\n      <td>-1.455060</td>\n      <td>-1.509137</td>\n      <td>310.0</td>\n    </tr>\n    <tr>\n      <th>44</th>\n      <td>Westmont</td>\n      <td>684592</td>\n      <td>Census-Designated Place</td>\n      <td>-1.622910</td>\n      <td>-2.658595</td>\n      <td>0.461633</td>\n      <td>-1.132649</td>\n      <td>-0.970942</td>\n      <td>-1.610728</td>\n      <td>-1.039767</td>\n      <td>-2.667665</td>\n      <td>-1.137705</td>\n      <td>-1.313884</td>\n      <td>1514.0</td>\n    </tr>\n  </tbody>\n</table>\n</div>"
     },
     "metadata": {},
     "execution_count": 239
    }
   ],
   "source": [
    "df_test2.head()"
   ]
  },
  {
   "cell_type": "code",
   "execution_count": 240,
   "metadata": {},
   "outputs": [],
   "source": [
    "knn_imputer = KNNImputer(n_neighbors = 5, weights = 'distance')"
   ]
  },
  {
   "cell_type": "code",
   "execution_count": 245,
   "metadata": {},
   "outputs": [],
   "source": [
    "imputed_values = knn_imputer.fit_transform(df_test2.drop(columns = ['CITY', 'GEO_ID', 'GEO_TYPE']).to_numpy())"
   ]
  },
  {
   "cell_type": "code",
   "execution_count": 253,
   "metadata": {},
   "outputs": [],
   "source": [
    "df_test3 = df_test.copy()"
   ]
  },
  {
   "cell_type": "code",
   "execution_count": 255,
   "metadata": {},
   "outputs": [],
   "source": [
    "df_test3['Rte_crim'] = imputed_values[:, -1]"
   ]
  },
  {
   "cell_type": "code",
   "execution_count": 256,
   "metadata": {},
   "outputs": [
    {
     "output_type": "execute_result",
     "data": {
      "text/plain": "              CITY  GEO_ID                 GEO_TYPE  HD_INDEX  LIFE_EXPEC  \\\n31    Sierra Madre  671806                     City      8.24        81.8   \n32  South Pasadena  673220                     City      8.27        85.2   \n42      San Marino  668224                     City      9.43        86.5   \n43          Cudahy  617498                     City      2.84        79.2   \n44        Westmont  684592  Census-Designated Place      2.83        76.3   \n\n    LESS_HS  BACHELORS  GRAD_DEGRE  SCHOOL_ENR  EARNINGS  HEALTH_IND  \\\n31      1.6       63.7        27.5        92.8     56026        6.59   \n32      4.5       59.0        26.6        90.3     50629        8.01   \n42      5.5       71.1        37.5        92.1     77948        8.56   \n43     57.1        4.6         1.5        77.3     19234        5.51   \n44     30.4        7.3         1.5        71.7     20503        4.28   \n\n    ED_INDEX  INCOME_IND     Rte_crim  \n31      9.33        8.79   261.897346  \n32      8.71        8.08   104.000000  \n42      9.72       10.00   141.898486  \n43      1.65        1.37   310.000000  \n44      2.38        1.82  1514.000000  ",
      "text/html": "<div>\n<style scoped>\n    .dataframe tbody tr th:only-of-type {\n        vertical-align: middle;\n    }\n\n    .dataframe tbody tr th {\n        vertical-align: top;\n    }\n\n    .dataframe thead th {\n        text-align: right;\n    }\n</style>\n<table border=\"1\" class=\"dataframe\">\n  <thead>\n    <tr style=\"text-align: right;\">\n      <th></th>\n      <th>CITY</th>\n      <th>GEO_ID</th>\n      <th>GEO_TYPE</th>\n      <th>HD_INDEX</th>\n      <th>LIFE_EXPEC</th>\n      <th>LESS_HS</th>\n      <th>BACHELORS</th>\n      <th>GRAD_DEGRE</th>\n      <th>SCHOOL_ENR</th>\n      <th>EARNINGS</th>\n      <th>HEALTH_IND</th>\n      <th>ED_INDEX</th>\n      <th>INCOME_IND</th>\n      <th>Rte_crim</th>\n    </tr>\n  </thead>\n  <tbody>\n    <tr>\n      <th>31</th>\n      <td>Sierra Madre</td>\n      <td>671806</td>\n      <td>City</td>\n      <td>8.24</td>\n      <td>81.8</td>\n      <td>1.6</td>\n      <td>63.7</td>\n      <td>27.5</td>\n      <td>92.8</td>\n      <td>56026</td>\n      <td>6.59</td>\n      <td>9.33</td>\n      <td>8.79</td>\n      <td>261.897346</td>\n    </tr>\n    <tr>\n      <th>32</th>\n      <td>South Pasadena</td>\n      <td>673220</td>\n      <td>City</td>\n      <td>8.27</td>\n      <td>85.2</td>\n      <td>4.5</td>\n      <td>59.0</td>\n      <td>26.6</td>\n      <td>90.3</td>\n      <td>50629</td>\n      <td>8.01</td>\n      <td>8.71</td>\n      <td>8.08</td>\n      <td>104.000000</td>\n    </tr>\n    <tr>\n      <th>42</th>\n      <td>San Marino</td>\n      <td>668224</td>\n      <td>City</td>\n      <td>9.43</td>\n      <td>86.5</td>\n      <td>5.5</td>\n      <td>71.1</td>\n      <td>37.5</td>\n      <td>92.1</td>\n      <td>77948</td>\n      <td>8.56</td>\n      <td>9.72</td>\n      <td>10.00</td>\n      <td>141.898486</td>\n    </tr>\n    <tr>\n      <th>43</th>\n      <td>Cudahy</td>\n      <td>617498</td>\n      <td>City</td>\n      <td>2.84</td>\n      <td>79.2</td>\n      <td>57.1</td>\n      <td>4.6</td>\n      <td>1.5</td>\n      <td>77.3</td>\n      <td>19234</td>\n      <td>5.51</td>\n      <td>1.65</td>\n      <td>1.37</td>\n      <td>310.000000</td>\n    </tr>\n    <tr>\n      <th>44</th>\n      <td>Westmont</td>\n      <td>684592</td>\n      <td>Census-Designated Place</td>\n      <td>2.83</td>\n      <td>76.3</td>\n      <td>30.4</td>\n      <td>7.3</td>\n      <td>1.5</td>\n      <td>71.7</td>\n      <td>20503</td>\n      <td>4.28</td>\n      <td>2.38</td>\n      <td>1.82</td>\n      <td>1514.000000</td>\n    </tr>\n  </tbody>\n</table>\n</div>"
     },
     "metadata": {},
     "execution_count": 256
    }
   ],
   "source": [
    "df_test3.head()"
   ]
  },
  {
   "cell_type": "code",
   "execution_count": null,
   "metadata": {},
   "outputs": [],
   "source": []
  }
 ],
 "metadata": {
  "language_info": {
   "codemirror_mode": {
    "name": "ipython",
    "version": 3
   },
   "file_extension": ".py",
   "mimetype": "text/x-python",
   "name": "python",
   "nbconvert_exporter": "python",
   "pygments_lexer": "ipython3",
   "version": "3.8.3-final"
  },
  "orig_nbformat": 2,
  "kernelspec": {
   "name": "python38364bitenvvenvf462224ebc244ccdadfe2fbba1bc4181",
   "display_name": "Python 3.8.3 64-bit ('env': venv)"
  }
 },
 "nbformat": 4,
 "nbformat_minor": 2
}