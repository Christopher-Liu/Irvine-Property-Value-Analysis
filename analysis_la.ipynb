{
 "cells": [
  {
   "cell_type": "code",
   "execution_count": 2,
   "metadata": {},
   "outputs": [],
   "source": [
    "import pandas as pd"
   ]
  },
  {
   "cell_type": "code",
   "execution_count": 5,
   "metadata": {},
   "outputs": [],
   "source": [
    "import_list = [\"./data/redfin_2020-06-06-10-33-17.csv\",  \n",
    "               \"./data/redfin_2020-06-06-10-34-58.csv\",\n",
    "               \"./data/redfin_2020-06-06-10-33-30.csv\",  \n",
    "               \"./data/redfin_2020-06-06-10-35-32.csv\",\n",
    "               \"./data/redfin_2020-06-06-10-33-57.csv\",  \n",
    "               \"./data/redfin_2020-06-06-10-35-43.csv\",\n",
    "               \"./data/redfin_2020-06-06-10-34-10.csv\",  \n",
    "               \"./data/redfin_2020-06-06-10-35-55.csv\",\n",
    "               \"./data/redfin_2020-06-06-10-34-25.csv\",  \n",
    "               \"./data/redfin_2020-06-06-10-36-06.csv\",\n",
    "               \"./data/redfin_2020-06-06-10-34-38.csv\",  \n",
    "               \"./data/redfin_2020-06-06-10-36-32.csv\"]"
   ]
  },
  {
   "cell_type": "code",
   "execution_count": 6,
   "metadata": {},
   "outputs": [],
   "source": [
    "df = pd.read_csv(\"./data/redfin_2020-06-06-10-34-50.csv\")\n",
    "\n",
    "for i in range(len(import_list)):\n",
    "    df = df.append(pd.read_csv(import_list[i]))"
   ]
  },
  {
   "cell_type": "code",
   "execution_count": 7,
   "metadata": {},
   "outputs": [
    {
     "output_type": "execute_result",
     "data": {
      "text/plain": "(1783, 27)"
     },
     "metadata": {},
     "execution_count": 7
    }
   ],
   "source": [
    "df.shape"
   ]
  },
  {
   "cell_type": "code",
   "execution_count": 8,
   "metadata": {},
   "outputs": [
    {
     "output_type": "execute_result",
     "data": {
      "text/plain": "(1405, 27)"
     },
     "metadata": {},
     "execution_count": 8
    }
   ],
   "source": [
    "df.drop_duplicates(inplace=True)\n",
    "df.shape"
   ]
  },
  {
   "cell_type": "code",
   "execution_count": 9,
   "metadata": {},
   "outputs": [
    {
     "output_type": "execute_result",
     "data": {
      "text/plain": "Index(['SALE TYPE', 'SOLD DATE', 'PROPERTY TYPE', 'ADDRESS', 'CITY',\n       'STATE OR PROVINCE', 'ZIP OR POSTAL CODE', 'PRICE', 'BEDS', 'BATHS',\n       'LOCATION', 'SQUARE FEET', 'LOT SIZE', 'YEAR BUILT', 'DAYS ON MARKET',\n       '$/SQUARE FEET', 'HOA/MONTH', 'STATUS', 'NEXT OPEN HOUSE START TIME',\n       'NEXT OPEN HOUSE END TIME',\n       'URL (SEE http://www.redfin.com/buy-a-home/comparative-market-analysis FOR INFO ON PRICING)',\n       'SOURCE', 'MLS#', 'FAVORITE', 'INTERESTED', 'LATITUDE', 'LONGITUDE'],\n      dtype='object')"
     },
     "metadata": {},
     "execution_count": 9
    }
   ],
   "source": [
    "df.columns"
   ]
  },
  {
   "cell_type": "code",
   "execution_count": 10,
   "metadata": {},
   "outputs": [
    {
     "output_type": "execute_result",
     "data": {
      "text/plain": "Arcadia             163\nPasadena            158\nCovina               81\nWest Covina          80\nWalnut               76\nEl Monte             74\nAlhambra             68\nHacienda Hts         65\nAzusa                64\nSan Gabriel          59\nRowland Heights      54\nTemple City          53\nLa Puente            53\nMonrovia             50\nGlendora             46\nSan Marino           42\nBaldwin Park         38\nRosemead             32\nMonterey Park        30\nMontebello           30\nSan Dimas            19\nSierra Madre         14\nDiamond Bar          12\nPico Rivera          11\nSouth El Monte       10\nDuarte                7\nEast Los Angeles      4\nIrwindale             3\nLos Angeles           3\nSouth Pasadena        3\nCharter Oak           1\nValinda               1\nCity Of Industry      1\nName: CITY, dtype: int64"
     },
     "metadata": {},
     "execution_count": 10
    }
   ],
   "source": [
    "df['CITY'].value_counts()"
   ]
  },
  {
   "cell_type": "code",
   "execution_count": null,
   "metadata": {},
   "outputs": [],
   "source": []
  }
 ],
 "metadata": {
  "language_info": {
   "codemirror_mode": {
    "name": "ipython",
    "version": 3
   },
   "file_extension": ".py",
   "mimetype": "text/x-python",
   "name": "python",
   "nbconvert_exporter": "python",
   "pygments_lexer": "ipython3",
   "version": "3.8.3-final"
  },
  "orig_nbformat": 2,
  "kernelspec": {
   "name": "python38364bitenvvenvf462224ebc244ccdadfe2fbba1bc4181",
   "display_name": "Python 3.8.3 64-bit ('env': venv)"
  }
 },
 "nbformat": 4,
 "nbformat_minor": 2
}